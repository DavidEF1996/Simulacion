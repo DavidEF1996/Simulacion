{
 "cells": [
  {
   "cell_type": "markdown",
   "metadata": {},
   "source": [
    "# UNIVERSIDAD POLITÉCNICA SALESIANA\n",
    "\n",
    "## Nombre: David Egas\n",
    "\n",
    "### Desarrollo\n",
    "\n",
    "Realizar un modelo de regresión lineal para determinar los futuros casos de Coronavirus en Ecuador, tomando en cuenta un dataset que contienen los datos históricos de contagiados en diferentes partes del mundo incluido Ecuador, y las fechas desde el día 0 en el país hasta el mes de noviembre de 2020. "
   ]
  },
  {
   "cell_type": "code",
   "execution_count": 47,
   "metadata": {},
   "outputs": [],
   "source": [
    "# Importar las librerias para el analasis\n",
    "import pandas as pd\n",
    "import numpy as np\n",
    "from datetime import datetime,timedelta\n",
    "from sklearn.metrics import mean_squared_error\n",
    "from scipy.optimize import curve_fit\n",
    "from scipy.optimize import fsolve\n",
    "from sklearn import linear_model\n",
    "import matplotlib.pyplot as plt\n",
    "%matplotlib inline"
   ]
  },
  {
   "cell_type": "markdown",
   "metadata": {},
   "source": [
    "# Infectados\n",
    "\n",
    "### Dataset utilizado: este dataset esta tomando de la página web Ourl World in Data."
   ]
  },
  {
   "cell_type": "code",
   "execution_count": 48,
   "metadata": {},
   "outputs": [
    {
     "data": {
      "text/html": [
       "<div>\n",
       "<style scoped>\n",
       "    .dataframe tbody tr th:only-of-type {\n",
       "        vertical-align: middle;\n",
       "    }\n",
       "\n",
       "    .dataframe tbody tr th {\n",
       "        vertical-align: top;\n",
       "    }\n",
       "\n",
       "    .dataframe thead th {\n",
       "        text-align: right;\n",
       "    }\n",
       "</style>\n",
       "<table border=\"1\" class=\"dataframe\">\n",
       "  <thead>\n",
       "    <tr style=\"text-align: right;\">\n",
       "      <th></th>\n",
       "      <th>iso_code</th>\n",
       "      <th>continent</th>\n",
       "      <th>location</th>\n",
       "      <th>date</th>\n",
       "      <th>total_cases</th>\n",
       "      <th>new_cases</th>\n",
       "      <th>new_cases_smoothed</th>\n",
       "      <th>total_deaths</th>\n",
       "      <th>new_deaths</th>\n",
       "      <th>new_deaths_smoothed</th>\n",
       "      <th>...</th>\n",
       "      <th>gdp_per_capita</th>\n",
       "      <th>extreme_poverty</th>\n",
       "      <th>cardiovasc_death_rate</th>\n",
       "      <th>diabetes_prevalence</th>\n",
       "      <th>female_smokers</th>\n",
       "      <th>male_smokers</th>\n",
       "      <th>handwashing_facilities</th>\n",
       "      <th>hospital_beds_per_thousand</th>\n",
       "      <th>life_expectancy</th>\n",
       "      <th>human_development_index</th>\n",
       "    </tr>\n",
       "  </thead>\n",
       "  <tbody>\n",
       "    <tr>\n",
       "      <th>0</th>\n",
       "      <td>ABW</td>\n",
       "      <td>North America</td>\n",
       "      <td>Aruba</td>\n",
       "      <td>2020-03-13</td>\n",
       "      <td>2.0</td>\n",
       "      <td>2.0</td>\n",
       "      <td>NaN</td>\n",
       "      <td>NaN</td>\n",
       "      <td>0.0</td>\n",
       "      <td>NaN</td>\n",
       "      <td>...</td>\n",
       "      <td>35973.781</td>\n",
       "      <td>NaN</td>\n",
       "      <td>NaN</td>\n",
       "      <td>11.62</td>\n",
       "      <td>NaN</td>\n",
       "      <td>NaN</td>\n",
       "      <td>NaN</td>\n",
       "      <td>NaN</td>\n",
       "      <td>76.29</td>\n",
       "      <td>NaN</td>\n",
       "    </tr>\n",
       "    <tr>\n",
       "      <th>1</th>\n",
       "      <td>ABW</td>\n",
       "      <td>North America</td>\n",
       "      <td>Aruba</td>\n",
       "      <td>2020-03-19</td>\n",
       "      <td>NaN</td>\n",
       "      <td>NaN</td>\n",
       "      <td>0.286</td>\n",
       "      <td>NaN</td>\n",
       "      <td>NaN</td>\n",
       "      <td>0.0</td>\n",
       "      <td>...</td>\n",
       "      <td>35973.781</td>\n",
       "      <td>NaN</td>\n",
       "      <td>NaN</td>\n",
       "      <td>11.62</td>\n",
       "      <td>NaN</td>\n",
       "      <td>NaN</td>\n",
       "      <td>NaN</td>\n",
       "      <td>NaN</td>\n",
       "      <td>76.29</td>\n",
       "      <td>NaN</td>\n",
       "    </tr>\n",
       "    <tr>\n",
       "      <th>2</th>\n",
       "      <td>ABW</td>\n",
       "      <td>North America</td>\n",
       "      <td>Aruba</td>\n",
       "      <td>2020-03-20</td>\n",
       "      <td>4.0</td>\n",
       "      <td>2.0</td>\n",
       "      <td>0.286</td>\n",
       "      <td>NaN</td>\n",
       "      <td>0.0</td>\n",
       "      <td>0.0</td>\n",
       "      <td>...</td>\n",
       "      <td>35973.781</td>\n",
       "      <td>NaN</td>\n",
       "      <td>NaN</td>\n",
       "      <td>11.62</td>\n",
       "      <td>NaN</td>\n",
       "      <td>NaN</td>\n",
       "      <td>NaN</td>\n",
       "      <td>NaN</td>\n",
       "      <td>76.29</td>\n",
       "      <td>NaN</td>\n",
       "    </tr>\n",
       "    <tr>\n",
       "      <th>3</th>\n",
       "      <td>ABW</td>\n",
       "      <td>North America</td>\n",
       "      <td>Aruba</td>\n",
       "      <td>2020-03-21</td>\n",
       "      <td>NaN</td>\n",
       "      <td>NaN</td>\n",
       "      <td>0.286</td>\n",
       "      <td>NaN</td>\n",
       "      <td>NaN</td>\n",
       "      <td>0.0</td>\n",
       "      <td>...</td>\n",
       "      <td>35973.781</td>\n",
       "      <td>NaN</td>\n",
       "      <td>NaN</td>\n",
       "      <td>11.62</td>\n",
       "      <td>NaN</td>\n",
       "      <td>NaN</td>\n",
       "      <td>NaN</td>\n",
       "      <td>NaN</td>\n",
       "      <td>76.29</td>\n",
       "      <td>NaN</td>\n",
       "    </tr>\n",
       "    <tr>\n",
       "      <th>4</th>\n",
       "      <td>ABW</td>\n",
       "      <td>North America</td>\n",
       "      <td>Aruba</td>\n",
       "      <td>2020-03-22</td>\n",
       "      <td>NaN</td>\n",
       "      <td>NaN</td>\n",
       "      <td>0.286</td>\n",
       "      <td>NaN</td>\n",
       "      <td>NaN</td>\n",
       "      <td>0.0</td>\n",
       "      <td>...</td>\n",
       "      <td>35973.781</td>\n",
       "      <td>NaN</td>\n",
       "      <td>NaN</td>\n",
       "      <td>11.62</td>\n",
       "      <td>NaN</td>\n",
       "      <td>NaN</td>\n",
       "      <td>NaN</td>\n",
       "      <td>NaN</td>\n",
       "      <td>76.29</td>\n",
       "      <td>NaN</td>\n",
       "    </tr>\n",
       "    <tr>\n",
       "      <th>...</th>\n",
       "      <td>...</td>\n",
       "      <td>...</td>\n",
       "      <td>...</td>\n",
       "      <td>...</td>\n",
       "      <td>...</td>\n",
       "      <td>...</td>\n",
       "      <td>...</td>\n",
       "      <td>...</td>\n",
       "      <td>...</td>\n",
       "      <td>...</td>\n",
       "      <td>...</td>\n",
       "      <td>...</td>\n",
       "      <td>...</td>\n",
       "      <td>...</td>\n",
       "      <td>...</td>\n",
       "      <td>...</td>\n",
       "      <td>...</td>\n",
       "      <td>...</td>\n",
       "      <td>...</td>\n",
       "      <td>...</td>\n",
       "      <td>...</td>\n",
       "    </tr>\n",
       "    <tr>\n",
       "      <th>54385</th>\n",
       "      <td>NaN</td>\n",
       "      <td>NaN</td>\n",
       "      <td>International</td>\n",
       "      <td>2020-10-30</td>\n",
       "      <td>696.0</td>\n",
       "      <td>NaN</td>\n",
       "      <td>NaN</td>\n",
       "      <td>7.0</td>\n",
       "      <td>NaN</td>\n",
       "      <td>NaN</td>\n",
       "      <td>...</td>\n",
       "      <td>NaN</td>\n",
       "      <td>NaN</td>\n",
       "      <td>NaN</td>\n",
       "      <td>NaN</td>\n",
       "      <td>NaN</td>\n",
       "      <td>NaN</td>\n",
       "      <td>NaN</td>\n",
       "      <td>NaN</td>\n",
       "      <td>NaN</td>\n",
       "      <td>NaN</td>\n",
       "    </tr>\n",
       "    <tr>\n",
       "      <th>54386</th>\n",
       "      <td>NaN</td>\n",
       "      <td>NaN</td>\n",
       "      <td>International</td>\n",
       "      <td>2020-10-31</td>\n",
       "      <td>696.0</td>\n",
       "      <td>NaN</td>\n",
       "      <td>NaN</td>\n",
       "      <td>7.0</td>\n",
       "      <td>NaN</td>\n",
       "      <td>NaN</td>\n",
       "      <td>...</td>\n",
       "      <td>NaN</td>\n",
       "      <td>NaN</td>\n",
       "      <td>NaN</td>\n",
       "      <td>NaN</td>\n",
       "      <td>NaN</td>\n",
       "      <td>NaN</td>\n",
       "      <td>NaN</td>\n",
       "      <td>NaN</td>\n",
       "      <td>NaN</td>\n",
       "      <td>NaN</td>\n",
       "    </tr>\n",
       "    <tr>\n",
       "      <th>54387</th>\n",
       "      <td>NaN</td>\n",
       "      <td>NaN</td>\n",
       "      <td>International</td>\n",
       "      <td>2020-11-01</td>\n",
       "      <td>696.0</td>\n",
       "      <td>NaN</td>\n",
       "      <td>NaN</td>\n",
       "      <td>7.0</td>\n",
       "      <td>NaN</td>\n",
       "      <td>NaN</td>\n",
       "      <td>...</td>\n",
       "      <td>NaN</td>\n",
       "      <td>NaN</td>\n",
       "      <td>NaN</td>\n",
       "      <td>NaN</td>\n",
       "      <td>NaN</td>\n",
       "      <td>NaN</td>\n",
       "      <td>NaN</td>\n",
       "      <td>NaN</td>\n",
       "      <td>NaN</td>\n",
       "      <td>NaN</td>\n",
       "    </tr>\n",
       "    <tr>\n",
       "      <th>54388</th>\n",
       "      <td>NaN</td>\n",
       "      <td>NaN</td>\n",
       "      <td>International</td>\n",
       "      <td>2020-11-02</td>\n",
       "      <td>696.0</td>\n",
       "      <td>NaN</td>\n",
       "      <td>NaN</td>\n",
       "      <td>7.0</td>\n",
       "      <td>NaN</td>\n",
       "      <td>NaN</td>\n",
       "      <td>...</td>\n",
       "      <td>NaN</td>\n",
       "      <td>NaN</td>\n",
       "      <td>NaN</td>\n",
       "      <td>NaN</td>\n",
       "      <td>NaN</td>\n",
       "      <td>NaN</td>\n",
       "      <td>NaN</td>\n",
       "      <td>NaN</td>\n",
       "      <td>NaN</td>\n",
       "      <td>NaN</td>\n",
       "    </tr>\n",
       "    <tr>\n",
       "      <th>54389</th>\n",
       "      <td>NaN</td>\n",
       "      <td>NaN</td>\n",
       "      <td>International</td>\n",
       "      <td>2020-11-03</td>\n",
       "      <td>696.0</td>\n",
       "      <td>NaN</td>\n",
       "      <td>NaN</td>\n",
       "      <td>7.0</td>\n",
       "      <td>NaN</td>\n",
       "      <td>NaN</td>\n",
       "      <td>...</td>\n",
       "      <td>NaN</td>\n",
       "      <td>NaN</td>\n",
       "      <td>NaN</td>\n",
       "      <td>NaN</td>\n",
       "      <td>NaN</td>\n",
       "      <td>NaN</td>\n",
       "      <td>NaN</td>\n",
       "      <td>NaN</td>\n",
       "      <td>NaN</td>\n",
       "      <td>NaN</td>\n",
       "    </tr>\n",
       "  </tbody>\n",
       "</table>\n",
       "<p>54390 rows × 49 columns</p>\n",
       "</div>"
      ],
      "text/plain": [
       "      iso_code      continent       location        date  total_cases  \\\n",
       "0          ABW  North America          Aruba  2020-03-13          2.0   \n",
       "1          ABW  North America          Aruba  2020-03-19          NaN   \n",
       "2          ABW  North America          Aruba  2020-03-20          4.0   \n",
       "3          ABW  North America          Aruba  2020-03-21          NaN   \n",
       "4          ABW  North America          Aruba  2020-03-22          NaN   \n",
       "...        ...            ...            ...         ...          ...   \n",
       "54385      NaN            NaN  International  2020-10-30        696.0   \n",
       "54386      NaN            NaN  International  2020-10-31        696.0   \n",
       "54387      NaN            NaN  International  2020-11-01        696.0   \n",
       "54388      NaN            NaN  International  2020-11-02        696.0   \n",
       "54389      NaN            NaN  International  2020-11-03        696.0   \n",
       "\n",
       "       new_cases  new_cases_smoothed  total_deaths  new_deaths  \\\n",
       "0            2.0                 NaN           NaN         0.0   \n",
       "1            NaN               0.286           NaN         NaN   \n",
       "2            2.0               0.286           NaN         0.0   \n",
       "3            NaN               0.286           NaN         NaN   \n",
       "4            NaN               0.286           NaN         NaN   \n",
       "...          ...                 ...           ...         ...   \n",
       "54385        NaN                 NaN           7.0         NaN   \n",
       "54386        NaN                 NaN           7.0         NaN   \n",
       "54387        NaN                 NaN           7.0         NaN   \n",
       "54388        NaN                 NaN           7.0         NaN   \n",
       "54389        NaN                 NaN           7.0         NaN   \n",
       "\n",
       "       new_deaths_smoothed  ...  gdp_per_capita  extreme_poverty  \\\n",
       "0                      NaN  ...       35973.781              NaN   \n",
       "1                      0.0  ...       35973.781              NaN   \n",
       "2                      0.0  ...       35973.781              NaN   \n",
       "3                      0.0  ...       35973.781              NaN   \n",
       "4                      0.0  ...       35973.781              NaN   \n",
       "...                    ...  ...             ...              ...   \n",
       "54385                  NaN  ...             NaN              NaN   \n",
       "54386                  NaN  ...             NaN              NaN   \n",
       "54387                  NaN  ...             NaN              NaN   \n",
       "54388                  NaN  ...             NaN              NaN   \n",
       "54389                  NaN  ...             NaN              NaN   \n",
       "\n",
       "       cardiovasc_death_rate  diabetes_prevalence  female_smokers  \\\n",
       "0                        NaN                11.62             NaN   \n",
       "1                        NaN                11.62             NaN   \n",
       "2                        NaN                11.62             NaN   \n",
       "3                        NaN                11.62             NaN   \n",
       "4                        NaN                11.62             NaN   \n",
       "...                      ...                  ...             ...   \n",
       "54385                    NaN                  NaN             NaN   \n",
       "54386                    NaN                  NaN             NaN   \n",
       "54387                    NaN                  NaN             NaN   \n",
       "54388                    NaN                  NaN             NaN   \n",
       "54389                    NaN                  NaN             NaN   \n",
       "\n",
       "       male_smokers  handwashing_facilities  hospital_beds_per_thousand  \\\n",
       "0               NaN                     NaN                         NaN   \n",
       "1               NaN                     NaN                         NaN   \n",
       "2               NaN                     NaN                         NaN   \n",
       "3               NaN                     NaN                         NaN   \n",
       "4               NaN                     NaN                         NaN   \n",
       "...             ...                     ...                         ...   \n",
       "54385           NaN                     NaN                         NaN   \n",
       "54386           NaN                     NaN                         NaN   \n",
       "54387           NaN                     NaN                         NaN   \n",
       "54388           NaN                     NaN                         NaN   \n",
       "54389           NaN                     NaN                         NaN   \n",
       "\n",
       "       life_expectancy  human_development_index  \n",
       "0                76.29                      NaN  \n",
       "1                76.29                      NaN  \n",
       "2                76.29                      NaN  \n",
       "3                76.29                      NaN  \n",
       "4                76.29                      NaN  \n",
       "...                ...                      ...  \n",
       "54385              NaN                      NaN  \n",
       "54386              NaN                      NaN  \n",
       "54387              NaN                      NaN  \n",
       "54388              NaN                      NaN  \n",
       "54389              NaN                      NaN  \n",
       "\n",
       "[54390 rows x 49 columns]"
      ]
     },
     "execution_count": 48,
     "metadata": {},
     "output_type": "execute_result"
    }
   ],
   "source": [
    "# Carga del dataset\n",
    "dataset = pd.read_csv('datacovid.csv')\n",
    "dataset\n"
   ]
  },
  {
   "cell_type": "markdown",
   "metadata": {},
   "source": [
    "### Seleccionamiento:\n",
    "\n",
    "Se toman los valores solo para Ecuador, desde la primera fecha hasta la última y el número de casos encontrados."
   ]
  },
  {
   "cell_type": "code",
   "execution_count": 49,
   "metadata": {},
   "outputs": [
    {
     "data": {
      "text/html": [
       "<div>\n",
       "<style scoped>\n",
       "    .dataframe tbody tr th:only-of-type {\n",
       "        vertical-align: middle;\n",
       "    }\n",
       "\n",
       "    .dataframe tbody tr th {\n",
       "        vertical-align: top;\n",
       "    }\n",
       "\n",
       "    .dataframe thead th {\n",
       "        text-align: right;\n",
       "    }\n",
       "</style>\n",
       "<table border=\"1\" class=\"dataframe\">\n",
       "  <thead>\n",
       "    <tr style=\"text-align: right;\">\n",
       "      <th></th>\n",
       "      <th>date</th>\n",
       "      <th>total_cases</th>\n",
       "    </tr>\n",
       "  </thead>\n",
       "  <tbody>\n",
       "    <tr>\n",
       "      <th>14369</th>\n",
       "      <td>0</td>\n",
       "      <td>NaN</td>\n",
       "    </tr>\n",
       "    <tr>\n",
       "      <th>14370</th>\n",
       "      <td>1</td>\n",
       "      <td>NaN</td>\n",
       "    </tr>\n",
       "    <tr>\n",
       "      <th>14371</th>\n",
       "      <td>2</td>\n",
       "      <td>NaN</td>\n",
       "    </tr>\n",
       "    <tr>\n",
       "      <th>14372</th>\n",
       "      <td>3</td>\n",
       "      <td>NaN</td>\n",
       "    </tr>\n",
       "    <tr>\n",
       "      <th>14373</th>\n",
       "      <td>4</td>\n",
       "      <td>NaN</td>\n",
       "    </tr>\n",
       "    <tr>\n",
       "      <th>...</th>\n",
       "      <td>...</td>\n",
       "      <td>...</td>\n",
       "    </tr>\n",
       "    <tr>\n",
       "      <th>14673</th>\n",
       "      <td>304</td>\n",
       "      <td>166302.0</td>\n",
       "    </tr>\n",
       "    <tr>\n",
       "      <th>14674</th>\n",
       "      <td>305</td>\n",
       "      <td>167147.0</td>\n",
       "    </tr>\n",
       "    <tr>\n",
       "      <th>14675</th>\n",
       "      <td>306</td>\n",
       "      <td>168192.0</td>\n",
       "    </tr>\n",
       "    <tr>\n",
       "      <th>14676</th>\n",
       "      <td>307</td>\n",
       "      <td>169194.0</td>\n",
       "    </tr>\n",
       "    <tr>\n",
       "      <th>14677</th>\n",
       "      <td>308</td>\n",
       "      <td>169562.0</td>\n",
       "    </tr>\n",
       "  </tbody>\n",
       "</table>\n",
       "<p>309 rows × 2 columns</p>\n",
       "</div>"
      ],
      "text/plain": [
       "       date  total_cases\n",
       "14369     0          NaN\n",
       "14370     1          NaN\n",
       "14371     2          NaN\n",
       "14372     3          NaN\n",
       "14373     4          NaN\n",
       "...     ...          ...\n",
       "14673   304     166302.0\n",
       "14674   305     167147.0\n",
       "14675   306     168192.0\n",
       "14676   307     169194.0\n",
       "14677   308     169562.0\n",
       "\n",
       "[309 rows x 2 columns]"
      ]
     },
     "execution_count": 49,
     "metadata": {},
     "output_type": "execute_result"
    }
   ],
   "source": [
    "dataset = dataset[dataset['location'].isin(['Ecuador'])] #Filtro la Informacion solo para Ecuador\n",
    "dataset = dataset.loc[:,['date','total_cases']] #Selecciono las columnas de analasis\n",
    "# Expresar las fechas en numero de dias desde el 01 Enero\n",
    "FMT = '%Y-%m-%d'\n",
    "date = dataset['date']\n",
    "dataset['date'] = date.map(lambda x : (datetime.strptime(x, FMT) - datetime.strptime(\"2019-12-31\", FMT)).days)\n",
    "\n",
    "dataset"
   ]
  },
  {
   "cell_type": "markdown",
   "metadata": {},
   "source": [
    "### Limpieza de los datos\n",
    "En los primeros días no se tenían casos por lo que nos dará un valor de NaN, esto puede causar problemas en el entrenamiento por lo que\n",
    "vamos a reemplazar por 0."
   ]
  },
  {
   "cell_type": "code",
   "execution_count": 50,
   "metadata": {},
   "outputs": [
    {
     "data": {
      "text/html": [
       "<div>\n",
       "<style scoped>\n",
       "    .dataframe tbody tr th:only-of-type {\n",
       "        vertical-align: middle;\n",
       "    }\n",
       "\n",
       "    .dataframe tbody tr th {\n",
       "        vertical-align: top;\n",
       "    }\n",
       "\n",
       "    .dataframe thead th {\n",
       "        text-align: right;\n",
       "    }\n",
       "</style>\n",
       "<table border=\"1\" class=\"dataframe\">\n",
       "  <thead>\n",
       "    <tr style=\"text-align: right;\">\n",
       "      <th></th>\n",
       "      <th>date</th>\n",
       "      <th>total_cases</th>\n",
       "    </tr>\n",
       "  </thead>\n",
       "  <tbody>\n",
       "    <tr>\n",
       "      <th>14369</th>\n",
       "      <td>0</td>\n",
       "      <td>0.0</td>\n",
       "    </tr>\n",
       "    <tr>\n",
       "      <th>14370</th>\n",
       "      <td>1</td>\n",
       "      <td>0.0</td>\n",
       "    </tr>\n",
       "    <tr>\n",
       "      <th>14371</th>\n",
       "      <td>2</td>\n",
       "      <td>0.0</td>\n",
       "    </tr>\n",
       "    <tr>\n",
       "      <th>14372</th>\n",
       "      <td>3</td>\n",
       "      <td>0.0</td>\n",
       "    </tr>\n",
       "    <tr>\n",
       "      <th>14373</th>\n",
       "      <td>4</td>\n",
       "      <td>0.0</td>\n",
       "    </tr>\n",
       "    <tr>\n",
       "      <th>...</th>\n",
       "      <td>...</td>\n",
       "      <td>...</td>\n",
       "    </tr>\n",
       "    <tr>\n",
       "      <th>14673</th>\n",
       "      <td>304</td>\n",
       "      <td>166302.0</td>\n",
       "    </tr>\n",
       "    <tr>\n",
       "      <th>14674</th>\n",
       "      <td>305</td>\n",
       "      <td>167147.0</td>\n",
       "    </tr>\n",
       "    <tr>\n",
       "      <th>14675</th>\n",
       "      <td>306</td>\n",
       "      <td>168192.0</td>\n",
       "    </tr>\n",
       "    <tr>\n",
       "      <th>14676</th>\n",
       "      <td>307</td>\n",
       "      <td>169194.0</td>\n",
       "    </tr>\n",
       "    <tr>\n",
       "      <th>14677</th>\n",
       "      <td>308</td>\n",
       "      <td>169562.0</td>\n",
       "    </tr>\n",
       "  </tbody>\n",
       "</table>\n",
       "<p>309 rows × 2 columns</p>\n",
       "</div>"
      ],
      "text/plain": [
       "       date  total_cases\n",
       "14369     0          0.0\n",
       "14370     1          0.0\n",
       "14371     2          0.0\n",
       "14372     3          0.0\n",
       "14373     4          0.0\n",
       "...     ...          ...\n",
       "14673   304     166302.0\n",
       "14674   305     167147.0\n",
       "14675   306     168192.0\n",
       "14676   307     169194.0\n",
       "14677   308     169562.0\n",
       "\n",
       "[309 rows x 2 columns]"
      ]
     },
     "execution_count": 50,
     "metadata": {},
     "output_type": "execute_result"
    }
   ],
   "source": [
    "\n",
    "dataset = dataset.fillna(0)\n",
    "dataset"
   ]
  },
  {
   "cell_type": "markdown",
   "metadata": {},
   "source": [
    "### Gráfica de el número de casos respecto a las fechas"
   ]
  },
  {
   "cell_type": "code",
   "execution_count": 51,
   "metadata": {},
   "outputs": [
    {
     "data": {
      "text/plain": [
       "<AxesSubplot:xlabel='date'>"
      ]
     },
     "execution_count": 51,
     "metadata": {},
     "output_type": "execute_result"
    },
    {
     "data": {
      "image/png": "[encoded data removed]",
      "text/plain": [
       "<Figure size 432x288 with 1 Axes>"
      ]
     },
     "metadata": {
      "needs_background": "light"
     },
     "output_type": "display_data"
    }
   ],
   "source": [
    "dataset.plot(x ='date', y='total_cases')"
   ]
  },
  {
   "cell_type": "markdown",
   "metadata": {},
   "source": [
    "### Entrenamiento de Regresión Lineal"
   ]
  },
  {
   "cell_type": "code",
   "execution_count": 52,
   "metadata": {},
   "outputs": [],
   "source": [
    "\n",
    "x = list(dataset.iloc [:, 0]) # Fecha\n",
    "y = list(dataset.iloc [:, 1]) # Numero de casos\n",
    "# Creamos el objeto de Regresión Lineal\n",
    "regr = linear_model.LinearRegression()\n",
    " \n"
   ]
  },
  {
   "cell_type": "code",
   "execution_count": 54,
   "metadata": {},
   "outputs": [
    {
     "data": {
      "text/plain": [
       "LinearRegression()"
      ]
     },
     "execution_count": 54,
     "metadata": {},
     "output_type": "execute_result"
    }
   ],
   "source": [
    "# Entrenamos nuestro modelo\n",
    "regr.fit(np.array(x).reshape(-1, 1) ,y)\n",
    "\n"
   ]
  },
  {
   "cell_type": "code",
   "execution_count": 55,
   "metadata": {},
   "outputs": [
    {
     "name": "stdout",
     "output_type": "stream",
     "text": [
      "Coefficients: \n",
      " [580.86758941]\n",
      "Independent term: \n",
      " -34959.87090510494\n"
     ]
    }
   ],
   "source": [
    "# Veamos los coeficienetes obtenidos, En nuestro caso, serán la Tangente\n",
    "print('Coefficients: \\n', regr.coef_)\n",
    "# Este es el valor donde corta el eje Y (en X=0)\n",
    "print('Independent term: \\n', regr.intercept_)\n",
    "# Error Cuadrado Medio"
   ]
  },
  {
   "cell_type": "markdown",
   "metadata": {},
   "source": [
    "### Probando el modelo\n",
    "\n",
    "Predeciremos cuantos casos de covid habrán el día 365 y veremos si el resultado tiene lógica frente a los obtenidos ya anteriormente"
   ]
  },
  {
   "cell_type": "code",
   "execution_count": 61,
   "metadata": {},
   "outputs": [
    {
     "name": "stdout",
     "output_type": "stream",
     "text": [
      "El número de infectados el 10 de noviembre del 2020 será:  148013\n",
      "El número de infectados el 1 de diciembre del 2020 será:  160211\n"
     ]
    }
   ],
   "source": [
    "y_prediccion = regr.predict([[315]])\n",
    "print(\"El número de infectados el 10 de noviembre del 2020 será: \", int(y_prediccion))\n",
    "\n",
    "y_prediccion = regr.predict([[336]])\n",
    "print(\"El número de infectados el 1 de diciembre del 2020 será: \", int(y_prediccion))"
   ]
  },
  {
   "cell_type": "code",
   "execution_count": 62,
   "metadata": {},
   "outputs": [
    {
     "data": {
      "image/png": "[encoded data removed]",
      "text/plain": [
       "<Figure size 432x288 with 1 Axes>"
      ]
     },
     "metadata": {
      "needs_background": "light"
     },
     "output_type": "display_data"
    }
   ],
   "source": [
    "#Graficar\n",
    "plt.scatter(x, y)\n",
    "x_real = np.array(range(0, 400))\n",
    "#print(x_real)\n",
    "plt.plot(x_real, regr.predict(x_real.reshape(-1, 1)), color='green')\n",
    "plt.show()"
   ]
  },
  {
   "cell_type": "markdown",
   "metadata": {},
   "source": [
    "# Curados\n",
    "\n",
    "### Dataset utilizado: este dataset esta tomando de Johns Hopkins University Center for Systems Science and Engineering"
   ]
  },
  {
   "cell_type": "code",
   "execution_count": 66,
   "metadata": {},
   "outputs": [
    {
     "data": {
      "text/html": [
       "<div>\n",
       "<style scoped>\n",
       "    .dataframe tbody tr th:only-of-type {\n",
       "        vertical-align: middle;\n",
       "    }\n",
       "\n",
       "    .dataframe tbody tr th {\n",
       "        vertical-align: top;\n",
       "    }\n",
       "\n",
       "    .dataframe thead th {\n",
       "        text-align: right;\n",
       "    }\n",
       "</style>\n",
       "<table border=\"1\" class=\"dataframe\">\n",
       "  <thead>\n",
       "    <tr style=\"text-align: right;\">\n",
       "      <th></th>\n",
       "      <th>Date</th>\n",
       "      <th>Country</th>\n",
       "      <th>Confirmed</th>\n",
       "      <th>Recovered</th>\n",
       "      <th>Deaths</th>\n",
       "    </tr>\n",
       "  </thead>\n",
       "  <tbody>\n",
       "    <tr>\n",
       "      <th>0</th>\n",
       "      <td>2020-01-22</td>\n",
       "      <td>Afghanistan</td>\n",
       "      <td>0</td>\n",
       "      <td>0</td>\n",
       "      <td>0</td>\n",
       "    </tr>\n",
       "    <tr>\n",
       "      <th>1</th>\n",
       "      <td>2020-01-23</td>\n",
       "      <td>Afghanistan</td>\n",
       "      <td>0</td>\n",
       "      <td>0</td>\n",
       "      <td>0</td>\n",
       "    </tr>\n",
       "    <tr>\n",
       "      <th>2</th>\n",
       "      <td>2020-01-24</td>\n",
       "      <td>Afghanistan</td>\n",
       "      <td>0</td>\n",
       "      <td>0</td>\n",
       "      <td>0</td>\n",
       "    </tr>\n",
       "    <tr>\n",
       "      <th>3</th>\n",
       "      <td>2020-01-25</td>\n",
       "      <td>Afghanistan</td>\n",
       "      <td>0</td>\n",
       "      <td>0</td>\n",
       "      <td>0</td>\n",
       "    </tr>\n",
       "    <tr>\n",
       "      <th>4</th>\n",
       "      <td>2020-01-26</td>\n",
       "      <td>Afghanistan</td>\n",
       "      <td>0</td>\n",
       "      <td>0</td>\n",
       "      <td>0</td>\n",
       "    </tr>\n",
       "    <tr>\n",
       "      <th>...</th>\n",
       "      <td>...</td>\n",
       "      <td>...</td>\n",
       "      <td>...</td>\n",
       "      <td>...</td>\n",
       "      <td>...</td>\n",
       "    </tr>\n",
       "    <tr>\n",
       "      <th>54145</th>\n",
       "      <td>2020-10-28</td>\n",
       "      <td>Zimbabwe</td>\n",
       "      <td>8320</td>\n",
       "      <td>7845</td>\n",
       "      <td>242</td>\n",
       "    </tr>\n",
       "    <tr>\n",
       "      <th>54146</th>\n",
       "      <td>2020-10-29</td>\n",
       "      <td>Zimbabwe</td>\n",
       "      <td>8349</td>\n",
       "      <td>7864</td>\n",
       "      <td>242</td>\n",
       "    </tr>\n",
       "    <tr>\n",
       "      <th>54147</th>\n",
       "      <td>2020-10-30</td>\n",
       "      <td>Zimbabwe</td>\n",
       "      <td>8362</td>\n",
       "      <td>7884</td>\n",
       "      <td>242</td>\n",
       "    </tr>\n",
       "    <tr>\n",
       "      <th>54148</th>\n",
       "      <td>2020-10-31</td>\n",
       "      <td>Zimbabwe</td>\n",
       "      <td>8367</td>\n",
       "      <td>7894</td>\n",
       "      <td>243</td>\n",
       "    </tr>\n",
       "    <tr>\n",
       "      <th>54149</th>\n",
       "      <td>2020-11-01</td>\n",
       "      <td>Zimbabwe</td>\n",
       "      <td>8374</td>\n",
       "      <td>7927</td>\n",
       "      <td>243</td>\n",
       "    </tr>\n",
       "  </tbody>\n",
       "</table>\n",
       "<p>54150 rows × 5 columns</p>\n",
       "</div>"
      ],
      "text/plain": [
       "             Date      Country  Confirmed  Recovered  Deaths\n",
       "0      2020-01-22  Afghanistan          0          0       0\n",
       "1      2020-01-23  Afghanistan          0          0       0\n",
       "2      2020-01-24  Afghanistan          0          0       0\n",
       "3      2020-01-25  Afghanistan          0          0       0\n",
       "4      2020-01-26  Afghanistan          0          0       0\n",
       "...           ...          ...        ...        ...     ...\n",
       "54145  2020-10-28     Zimbabwe       8320       7845     242\n",
       "54146  2020-10-29     Zimbabwe       8349       7864     242\n",
       "54147  2020-10-30     Zimbabwe       8362       7884     242\n",
       "54148  2020-10-31     Zimbabwe       8367       7894     243\n",
       "54149  2020-11-01     Zimbabwe       8374       7927     243\n",
       "\n",
       "[54150 rows x 5 columns]"
      ]
     },
     "execution_count": 66,
     "metadata": {},
     "output_type": "execute_result"
    }
   ],
   "source": [
    "# Carga del dataset\n",
    "dataset = pd.read_csv('datasetcovid2.csv')\n",
    "dataset"
   ]
  },
  {
   "cell_type": "markdown",
   "metadata": {},
   "source": [
    "### Seleccionamiento: \n",
    "En este caso se toma los datos de las fechas y el número de recuperados de coronavirus en Ecuador desde la fecha 0 hasta el presente \n",
    "mes.\n"
   ]
  },
  {
   "cell_type": "code",
   "execution_count": 67,
   "metadata": {},
   "outputs": [
    {
     "data": {
      "text/html": [
       "<div>\n",
       "<style scoped>\n",
       "    .dataframe tbody tr th:only-of-type {\n",
       "        vertical-align: middle;\n",
       "    }\n",
       "\n",
       "    .dataframe tbody tr th {\n",
       "        vertical-align: top;\n",
       "    }\n",
       "\n",
       "    .dataframe thead th {\n",
       "        text-align: right;\n",
       "    }\n",
       "</style>\n",
       "<table border=\"1\" class=\"dataframe\">\n",
       "  <thead>\n",
       "    <tr style=\"text-align: right;\">\n",
       "      <th></th>\n",
       "      <th>Date</th>\n",
       "      <th>Recovered</th>\n",
       "    </tr>\n",
       "  </thead>\n",
       "  <tbody>\n",
       "    <tr>\n",
       "      <th>14820</th>\n",
       "      <td>0</td>\n",
       "      <td>0</td>\n",
       "    </tr>\n",
       "    <tr>\n",
       "      <th>14821</th>\n",
       "      <td>1</td>\n",
       "      <td>0</td>\n",
       "    </tr>\n",
       "    <tr>\n",
       "      <th>14822</th>\n",
       "      <td>2</td>\n",
       "      <td>0</td>\n",
       "    </tr>\n",
       "    <tr>\n",
       "      <th>14823</th>\n",
       "      <td>3</td>\n",
       "      <td>0</td>\n",
       "    </tr>\n",
       "    <tr>\n",
       "      <th>14824</th>\n",
       "      <td>4</td>\n",
       "      <td>0</td>\n",
       "    </tr>\n",
       "    <tr>\n",
       "      <th>...</th>\n",
       "      <td>...</td>\n",
       "      <td>...</td>\n",
       "    </tr>\n",
       "    <tr>\n",
       "      <th>15100</th>\n",
       "      <td>280</td>\n",
       "      <td>141759</td>\n",
       "    </tr>\n",
       "    <tr>\n",
       "      <th>15101</th>\n",
       "      <td>281</td>\n",
       "      <td>141759</td>\n",
       "    </tr>\n",
       "    <tr>\n",
       "      <th>15102</th>\n",
       "      <td>282</td>\n",
       "      <td>141759</td>\n",
       "    </tr>\n",
       "    <tr>\n",
       "      <th>15103</th>\n",
       "      <td>283</td>\n",
       "      <td>141759</td>\n",
       "    </tr>\n",
       "    <tr>\n",
       "      <th>15104</th>\n",
       "      <td>284</td>\n",
       "      <td>149048</td>\n",
       "    </tr>\n",
       "  </tbody>\n",
       "</table>\n",
       "<p>285 rows × 2 columns</p>\n",
       "</div>"
      ],
      "text/plain": [
       "       Date  Recovered\n",
       "14820     0          0\n",
       "14821     1          0\n",
       "14822     2          0\n",
       "14823     3          0\n",
       "14824     4          0\n",
       "...     ...        ...\n",
       "15100   280     141759\n",
       "15101   281     141759\n",
       "15102   282     141759\n",
       "15103   283     141759\n",
       "15104   284     149048\n",
       "\n",
       "[285 rows x 2 columns]"
      ]
     },
     "execution_count": 67,
     "metadata": {},
     "output_type": "execute_result"
    }
   ],
   "source": [
    "dataset = dataset[dataset['Country'].isin(['Ecuador'])] #Filtro la Informacion solo para Ecuador\n",
    "dataset = dataset.loc[:,['Date','Recovered']] #Selecciono las columnas de analasis\n",
    "# Expresar las fechas en numero de dias desde el 01 Enero\n",
    "FMT = '%Y-%m-%d'\n",
    "date = dataset['Date']\n",
    "dataset['Date'] = date.map(lambda x : (datetime.strptime(x, FMT) - datetime.strptime(\"2020-01-22\", FMT)).days)\n",
    "\n",
    "dataset"
   ]
  },
  {
   "cell_type": "markdown",
   "metadata": {},
   "source": [
    "### Gráfica de los datos"
   ]
  },
  {
   "cell_type": "code",
   "execution_count": 68,
   "metadata": {},
   "outputs": [
    {
     "data": {
      "text/plain": [
       "<AxesSubplot:xlabel='Date'>"
      ]
     },
     "execution_count": 68,
     "metadata": {},
     "output_type": "execute_result"
    },
    {
     "data": {
      "image/png": "[encoded data removed]",
      "text/plain": [
       "<Figure size 432x288 with 1 Axes>"
      ]
     },
     "metadata": {
      "needs_background": "light"
     },
     "output_type": "display_data"
    }
   ],
   "source": [
    "dataset.plot(x ='Date', y='Recovered')"
   ]
  },
  {
   "cell_type": "markdown",
   "metadata": {},
   "source": [
    "### Entrenamiento y aplicación de regresión lineal"
   ]
  },
  {
   "cell_type": "code",
   "execution_count": 69,
   "metadata": {},
   "outputs": [],
   "source": [
    "x = list(dataset.iloc [:, 0]) # Fecha\n",
    "y = list(dataset.iloc [:, 1]) # Numero de casos\n",
    "# Creamos el objeto de Regresión Lineal\n",
    "regr = linear_model.LinearRegression()\n",
    " "
   ]
  },
  {
   "cell_type": "code",
   "execution_count": 71,
   "metadata": {},
   "outputs": [
    {
     "data": {
      "text/plain": [
       "LinearRegression()"
      ]
     },
     "execution_count": 71,
     "metadata": {},
     "output_type": "execute_result"
    }
   ],
   "source": [
    "# Entrenamos nuestro modelo\n",
    "regr.fit(np.array(x).reshape(-1, 1) ,y)\n"
   ]
  },
  {
   "cell_type": "code",
   "execution_count": 72,
   "metadata": {},
   "outputs": [
    {
     "name": "stdout",
     "output_type": "stream",
     "text": [
      "Coefficients: \n",
      " [526.82761331]\n",
      "Independent term: \n",
      " -34097.67196662989\n"
     ]
    }
   ],
   "source": [
    "# Veamos los coeficienetes obtenidos, En nuestro caso, serán la Tangente\n",
    "print('Coefficients: \\n', regr.coef_)\n",
    "# Este es el valor donde corta el eje Y (en X=0)\n",
    "print('Independent term: \\n', regr.intercept_)\n",
    "# Error Cuadrado Medio"
   ]
  },
  {
   "cell_type": "code",
   "execution_count": 74,
   "metadata": {},
   "outputs": [
    {
     "name": "stdout",
     "output_type": "stream",
     "text": [
      "El número de recuperados a la fecha de 10 de noviembre de 2020 será: 120262\n",
      "El número de recuperados a la fecha de 1 de diciembre de 2020 será:  131326\n"
     ]
    }
   ],
   "source": [
    "y_prediccion = regr.predict([[293]])\n",
    "print(\"El número de recuperados a la fecha de 10 de noviembre de 2020 será:\", int(y_prediccion))\n",
    "\n",
    "y_prediccion = regr.predict([[314]])\n",
    "print(\"El número de recuperados a la fecha de 1 de diciembre de 2020 será: \", int(y_prediccion))"
   ]
  },
  {
   "cell_type": "code",
   "execution_count": 76,
   "metadata": {},
   "outputs": [
    {
     "data": {
      "image/png": "[encoded data removed]",
      "text/plain": [
       "<Figure size 432x288 with 1 Axes>"
      ]
     },
     "metadata": {
      "needs_background": "light"
     },
     "output_type": "display_data"
    }
   ],
   "source": [
    "#Graficar\n",
    "plt.scatter(x, y)\n",
    "x_real = np.array(range(0, 350))\n",
    "#print(x_real)\n",
    "plt.plot(x_real, regr.predict(x_real.reshape(-1, 1)), color='green')\n",
    "plt.show()"
   ]
  },
  {
   "cell_type": "markdown",
   "metadata": {},
   "source": [
    "### Resultados:\n",
    "La comparación nos deja que:\n",
    "- Para el 1 de Diciembre habrá 160211 personas infectadas de covid 19 en Ecuador\n",
    "- Al mismo tiempo para el 1 de Diciembre habrá 131326 personas recuperadas de covid 19 en Ecuador\n",
    "\n",
    "Los datos estan basados en históricos hasta los primeros días de noviembre."
   ]
  },
  {
   "cell_type": "code",
   "execution_count": null,
   "metadata": {},
   "outputs": [],
   "source": []
  }
 ],
 "metadata": {
  "kernelspec": {
   "display_name": "Python 3",
   "language": "python",
   "name": "python3"
  },
  "language_info": {
   "codemirror_mode": {
    "name": "ipython",
    "version": 3
   },
   "file_extension": ".py",
   "mimetype": "text/x-python",
   "name": "python",
   "nbconvert_exporter": "python",
   "pygments_lexer": "ipython3",
   "version": "3.7.8"
  }
 },
 "nbformat": 4,
 "nbformat_minor": 4
}
