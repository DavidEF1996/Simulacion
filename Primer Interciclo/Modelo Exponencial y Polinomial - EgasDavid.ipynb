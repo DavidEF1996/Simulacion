{
 "cells": [
  {
   "cell_type": "markdown",
   "metadata": {},
   "source": [
    "# Universidad Politécnica Salesiana\n",
    "\n",
    "## Nombre: David Egas\n",
    "\n",
    "### Desarrollo\n",
    "\n",
    "Aplicar el modelo exponencial y polinomial al dataset actualizado de covid 19 en Ecuador, predecir el número de contagios para las fechas de 11 de noviembre y 1 de diciembre y realizar una comparativa."
   ]
  },
  {
   "cell_type": "code",
   "execution_count": 1,
   "metadata": {},
   "outputs": [],
   "source": [
    "import pandas as pd\n",
    "import numpy as np\n",
    "from datetime import datetime,timedelta\n",
    "from sklearn.metrics import mean_squared_error\n",
    "from scipy.optimize import curve_fit\n",
    "from scipy.optimize import fsolve\n",
    "from sklearn import linear_model\n",
    "import matplotlib.pyplot as plt\n",
    "%matplotlib inline"
   ]
  },
  {
   "cell_type": "markdown",
   "metadata": {},
   "source": [
    "## Carga del Dataset"
   ]
  },
  {
   "cell_type": "code",
   "execution_count": 2,
   "metadata": {},
   "outputs": [
    {
     "data": {
      "text/html": [
       "<div>\n",
       "<style scoped>\n",
       "    .dataframe tbody tr th:only-of-type {\n",
       "        vertical-align: middle;\n",
       "    }\n",
       "\n",
       "    .dataframe tbody tr th {\n",
       "        vertical-align: top;\n",
       "    }\n",
       "\n",
       "    .dataframe thead th {\n",
       "        text-align: right;\n",
       "    }\n",
       "</style>\n",
       "<table border=\"1\" class=\"dataframe\">\n",
       "  <thead>\n",
       "    <tr style=\"text-align: right;\">\n",
       "      <th></th>\n",
       "      <th>iso_code</th>\n",
       "      <th>continent</th>\n",
       "      <th>location</th>\n",
       "      <th>date</th>\n",
       "      <th>total_cases</th>\n",
       "      <th>new_cases</th>\n",
       "      <th>new_cases_smoothed</th>\n",
       "      <th>total_deaths</th>\n",
       "      <th>new_deaths</th>\n",
       "      <th>new_deaths_smoothed</th>\n",
       "      <th>...</th>\n",
       "      <th>gdp_per_capita</th>\n",
       "      <th>extreme_poverty</th>\n",
       "      <th>cardiovasc_death_rate</th>\n",
       "      <th>diabetes_prevalence</th>\n",
       "      <th>female_smokers</th>\n",
       "      <th>male_smokers</th>\n",
       "      <th>handwashing_facilities</th>\n",
       "      <th>hospital_beds_per_thousand</th>\n",
       "      <th>life_expectancy</th>\n",
       "      <th>human_development_index</th>\n",
       "    </tr>\n",
       "  </thead>\n",
       "  <tbody>\n",
       "    <tr>\n",
       "      <th>0</th>\n",
       "      <td>ABW</td>\n",
       "      <td>North America</td>\n",
       "      <td>Aruba</td>\n",
       "      <td>2020-03-13</td>\n",
       "      <td>2.0</td>\n",
       "      <td>2.0</td>\n",
       "      <td>NaN</td>\n",
       "      <td>NaN</td>\n",
       "      <td>0.0</td>\n",
       "      <td>NaN</td>\n",
       "      <td>...</td>\n",
       "      <td>35973.781</td>\n",
       "      <td>NaN</td>\n",
       "      <td>NaN</td>\n",
       "      <td>11.62</td>\n",
       "      <td>NaN</td>\n",
       "      <td>NaN</td>\n",
       "      <td>NaN</td>\n",
       "      <td>NaN</td>\n",
       "      <td>76.29</td>\n",
       "      <td>NaN</td>\n",
       "    </tr>\n",
       "    <tr>\n",
       "      <th>1</th>\n",
       "      <td>ABW</td>\n",
       "      <td>North America</td>\n",
       "      <td>Aruba</td>\n",
       "      <td>2020-03-19</td>\n",
       "      <td>NaN</td>\n",
       "      <td>NaN</td>\n",
       "      <td>0.286</td>\n",
       "      <td>NaN</td>\n",
       "      <td>NaN</td>\n",
       "      <td>0.0</td>\n",
       "      <td>...</td>\n",
       "      <td>35973.781</td>\n",
       "      <td>NaN</td>\n",
       "      <td>NaN</td>\n",
       "      <td>11.62</td>\n",
       "      <td>NaN</td>\n",
       "      <td>NaN</td>\n",
       "      <td>NaN</td>\n",
       "      <td>NaN</td>\n",
       "      <td>76.29</td>\n",
       "      <td>NaN</td>\n",
       "    </tr>\n",
       "    <tr>\n",
       "      <th>2</th>\n",
       "      <td>ABW</td>\n",
       "      <td>North America</td>\n",
       "      <td>Aruba</td>\n",
       "      <td>2020-03-20</td>\n",
       "      <td>4.0</td>\n",
       "      <td>2.0</td>\n",
       "      <td>0.286</td>\n",
       "      <td>NaN</td>\n",
       "      <td>0.0</td>\n",
       "      <td>0.0</td>\n",
       "      <td>...</td>\n",
       "      <td>35973.781</td>\n",
       "      <td>NaN</td>\n",
       "      <td>NaN</td>\n",
       "      <td>11.62</td>\n",
       "      <td>NaN</td>\n",
       "      <td>NaN</td>\n",
       "      <td>NaN</td>\n",
       "      <td>NaN</td>\n",
       "      <td>76.29</td>\n",
       "      <td>NaN</td>\n",
       "    </tr>\n",
       "    <tr>\n",
       "      <th>3</th>\n",
       "      <td>ABW</td>\n",
       "      <td>North America</td>\n",
       "      <td>Aruba</td>\n",
       "      <td>2020-03-21</td>\n",
       "      <td>NaN</td>\n",
       "      <td>NaN</td>\n",
       "      <td>0.286</td>\n",
       "      <td>NaN</td>\n",
       "      <td>NaN</td>\n",
       "      <td>0.0</td>\n",
       "      <td>...</td>\n",
       "      <td>35973.781</td>\n",
       "      <td>NaN</td>\n",
       "      <td>NaN</td>\n",
       "      <td>11.62</td>\n",
       "      <td>NaN</td>\n",
       "      <td>NaN</td>\n",
       "      <td>NaN</td>\n",
       "      <td>NaN</td>\n",
       "      <td>76.29</td>\n",
       "      <td>NaN</td>\n",
       "    </tr>\n",
       "    <tr>\n",
       "      <th>4</th>\n",
       "      <td>ABW</td>\n",
       "      <td>North America</td>\n",
       "      <td>Aruba</td>\n",
       "      <td>2020-03-22</td>\n",
       "      <td>NaN</td>\n",
       "      <td>NaN</td>\n",
       "      <td>0.286</td>\n",
       "      <td>NaN</td>\n",
       "      <td>NaN</td>\n",
       "      <td>0.0</td>\n",
       "      <td>...</td>\n",
       "      <td>35973.781</td>\n",
       "      <td>NaN</td>\n",
       "      <td>NaN</td>\n",
       "      <td>11.62</td>\n",
       "      <td>NaN</td>\n",
       "      <td>NaN</td>\n",
       "      <td>NaN</td>\n",
       "      <td>NaN</td>\n",
       "      <td>76.29</td>\n",
       "      <td>NaN</td>\n",
       "    </tr>\n",
       "    <tr>\n",
       "      <th>...</th>\n",
       "      <td>...</td>\n",
       "      <td>...</td>\n",
       "      <td>...</td>\n",
       "      <td>...</td>\n",
       "      <td>...</td>\n",
       "      <td>...</td>\n",
       "      <td>...</td>\n",
       "      <td>...</td>\n",
       "      <td>...</td>\n",
       "      <td>...</td>\n",
       "      <td>...</td>\n",
       "      <td>...</td>\n",
       "      <td>...</td>\n",
       "      <td>...</td>\n",
       "      <td>...</td>\n",
       "      <td>...</td>\n",
       "      <td>...</td>\n",
       "      <td>...</td>\n",
       "      <td>...</td>\n",
       "      <td>...</td>\n",
       "      <td>...</td>\n",
       "    </tr>\n",
       "    <tr>\n",
       "      <th>54385</th>\n",
       "      <td>NaN</td>\n",
       "      <td>NaN</td>\n",
       "      <td>International</td>\n",
       "      <td>2020-10-30</td>\n",
       "      <td>696.0</td>\n",
       "      <td>NaN</td>\n",
       "      <td>NaN</td>\n",
       "      <td>7.0</td>\n",
       "      <td>NaN</td>\n",
       "      <td>NaN</td>\n",
       "      <td>...</td>\n",
       "      <td>NaN</td>\n",
       "      <td>NaN</td>\n",
       "      <td>NaN</td>\n",
       "      <td>NaN</td>\n",
       "      <td>NaN</td>\n",
       "      <td>NaN</td>\n",
       "      <td>NaN</td>\n",
       "      <td>NaN</td>\n",
       "      <td>NaN</td>\n",
       "      <td>NaN</td>\n",
       "    </tr>\n",
       "    <tr>\n",
       "      <th>54386</th>\n",
       "      <td>NaN</td>\n",
       "      <td>NaN</td>\n",
       "      <td>International</td>\n",
       "      <td>2020-10-31</td>\n",
       "      <td>696.0</td>\n",
       "      <td>NaN</td>\n",
       "      <td>NaN</td>\n",
       "      <td>7.0</td>\n",
       "      <td>NaN</td>\n",
       "      <td>NaN</td>\n",
       "      <td>...</td>\n",
       "      <td>NaN</td>\n",
       "      <td>NaN</td>\n",
       "      <td>NaN</td>\n",
       "      <td>NaN</td>\n",
       "      <td>NaN</td>\n",
       "      <td>NaN</td>\n",
       "      <td>NaN</td>\n",
       "      <td>NaN</td>\n",
       "      <td>NaN</td>\n",
       "      <td>NaN</td>\n",
       "    </tr>\n",
       "    <tr>\n",
       "      <th>54387</th>\n",
       "      <td>NaN</td>\n",
       "      <td>NaN</td>\n",
       "      <td>International</td>\n",
       "      <td>2020-11-01</td>\n",
       "      <td>696.0</td>\n",
       "      <td>NaN</td>\n",
       "      <td>NaN</td>\n",
       "      <td>7.0</td>\n",
       "      <td>NaN</td>\n",
       "      <td>NaN</td>\n",
       "      <td>...</td>\n",
       "      <td>NaN</td>\n",
       "      <td>NaN</td>\n",
       "      <td>NaN</td>\n",
       "      <td>NaN</td>\n",
       "      <td>NaN</td>\n",
       "      <td>NaN</td>\n",
       "      <td>NaN</td>\n",
       "      <td>NaN</td>\n",
       "      <td>NaN</td>\n",
       "      <td>NaN</td>\n",
       "    </tr>\n",
       "    <tr>\n",
       "      <th>54388</th>\n",
       "      <td>NaN</td>\n",
       "      <td>NaN</td>\n",
       "      <td>International</td>\n",
       "      <td>2020-11-02</td>\n",
       "      <td>696.0</td>\n",
       "      <td>NaN</td>\n",
       "      <td>NaN</td>\n",
       "      <td>7.0</td>\n",
       "      <td>NaN</td>\n",
       "      <td>NaN</td>\n",
       "      <td>...</td>\n",
       "      <td>NaN</td>\n",
       "      <td>NaN</td>\n",
       "      <td>NaN</td>\n",
       "      <td>NaN</td>\n",
       "      <td>NaN</td>\n",
       "      <td>NaN</td>\n",
       "      <td>NaN</td>\n",
       "      <td>NaN</td>\n",
       "      <td>NaN</td>\n",
       "      <td>NaN</td>\n",
       "    </tr>\n",
       "    <tr>\n",
       "      <th>54389</th>\n",
       "      <td>NaN</td>\n",
       "      <td>NaN</td>\n",
       "      <td>International</td>\n",
       "      <td>2020-11-03</td>\n",
       "      <td>696.0</td>\n",
       "      <td>NaN</td>\n",
       "      <td>NaN</td>\n",
       "      <td>7.0</td>\n",
       "      <td>NaN</td>\n",
       "      <td>NaN</td>\n",
       "      <td>...</td>\n",
       "      <td>NaN</td>\n",
       "      <td>NaN</td>\n",
       "      <td>NaN</td>\n",
       "      <td>NaN</td>\n",
       "      <td>NaN</td>\n",
       "      <td>NaN</td>\n",
       "      <td>NaN</td>\n",
       "      <td>NaN</td>\n",
       "      <td>NaN</td>\n",
       "      <td>NaN</td>\n",
       "    </tr>\n",
       "  </tbody>\n",
       "</table>\n",
       "<p>54390 rows × 49 columns</p>\n",
       "</div>"
      ],
      "text/plain": [
       "      iso_code      continent       location        date  total_cases  \\\n",
       "0          ABW  North America          Aruba  2020-03-13          2.0   \n",
       "1          ABW  North America          Aruba  2020-03-19          NaN   \n",
       "2          ABW  North America          Aruba  2020-03-20          4.0   \n",
       "3          ABW  North America          Aruba  2020-03-21          NaN   \n",
       "4          ABW  North America          Aruba  2020-03-22          NaN   \n",
       "...        ...            ...            ...         ...          ...   \n",
       "54385      NaN            NaN  International  2020-10-30        696.0   \n",
       "54386      NaN            NaN  International  2020-10-31        696.0   \n",
       "54387      NaN            NaN  International  2020-11-01        696.0   \n",
       "54388      NaN            NaN  International  2020-11-02        696.0   \n",
       "54389      NaN            NaN  International  2020-11-03        696.0   \n",
       "\n",
       "       new_cases  new_cases_smoothed  total_deaths  new_deaths  \\\n",
       "0            2.0                 NaN           NaN         0.0   \n",
       "1            NaN               0.286           NaN         NaN   \n",
       "2            2.0               0.286           NaN         0.0   \n",
       "3            NaN               0.286           NaN         NaN   \n",
       "4            NaN               0.286           NaN         NaN   \n",
       "...          ...                 ...           ...         ...   \n",
       "54385        NaN                 NaN           7.0         NaN   \n",
       "54386        NaN                 NaN           7.0         NaN   \n",
       "54387        NaN                 NaN           7.0         NaN   \n",
       "54388        NaN                 NaN           7.0         NaN   \n",
       "54389        NaN                 NaN           7.0         NaN   \n",
       "\n",
       "       new_deaths_smoothed  ...  gdp_per_capita  extreme_poverty  \\\n",
       "0                      NaN  ...       35973.781              NaN   \n",
       "1                      0.0  ...       35973.781              NaN   \n",
       "2                      0.0  ...       35973.781              NaN   \n",
       "3                      0.0  ...       35973.781              NaN   \n",
       "4                      0.0  ...       35973.781              NaN   \n",
       "...                    ...  ...             ...              ...   \n",
       "54385                  NaN  ...             NaN              NaN   \n",
       "54386                  NaN  ...             NaN              NaN   \n",
       "54387                  NaN  ...             NaN              NaN   \n",
       "54388                  NaN  ...             NaN              NaN   \n",
       "54389                  NaN  ...             NaN              NaN   \n",
       "\n",
       "       cardiovasc_death_rate  diabetes_prevalence  female_smokers  \\\n",
       "0                        NaN                11.62             NaN   \n",
       "1                        NaN                11.62             NaN   \n",
       "2                        NaN                11.62             NaN   \n",
       "3                        NaN                11.62             NaN   \n",
       "4                        NaN                11.62             NaN   \n",
       "...                      ...                  ...             ...   \n",
       "54385                    NaN                  NaN             NaN   \n",
       "54386                    NaN                  NaN             NaN   \n",
       "54387                    NaN                  NaN             NaN   \n",
       "54388                    NaN                  NaN             NaN   \n",
       "54389                    NaN                  NaN             NaN   \n",
       "\n",
       "       male_smokers  handwashing_facilities  hospital_beds_per_thousand  \\\n",
       "0               NaN                     NaN                         NaN   \n",
       "1               NaN                     NaN                         NaN   \n",
       "2               NaN                     NaN                         NaN   \n",
       "3               NaN                     NaN                         NaN   \n",
       "4               NaN                     NaN                         NaN   \n",
       "...             ...                     ...                         ...   \n",
       "54385           NaN                     NaN                         NaN   \n",
       "54386           NaN                     NaN                         NaN   \n",
       "54387           NaN                     NaN                         NaN   \n",
       "54388           NaN                     NaN                         NaN   \n",
       "54389           NaN                     NaN                         NaN   \n",
       "\n",
       "       life_expectancy  human_development_index  \n",
       "0                76.29                      NaN  \n",
       "1                76.29                      NaN  \n",
       "2                76.29                      NaN  \n",
       "3                76.29                      NaN  \n",
       "4                76.29                      NaN  \n",
       "...                ...                      ...  \n",
       "54385              NaN                      NaN  \n",
       "54386              NaN                      NaN  \n",
       "54387              NaN                      NaN  \n",
       "54388              NaN                      NaN  \n",
       "54389              NaN                      NaN  \n",
       "\n",
       "[54390 rows x 49 columns]"
      ]
     },
     "execution_count": 2,
     "metadata": {},
     "output_type": "execute_result"
    }
   ],
   "source": [
    "# Carga del dataset\n",
    "dataset = pd.read_csv('datacovid.csv')\n",
    "dataset"
   ]
  },
  {
   "cell_type": "markdown",
   "metadata": {},
   "source": [
    "## Seleccionamos las columnas solo para Ecuador de la fecha y el total de casos"
   ]
  },
  {
   "cell_type": "code",
   "execution_count": 3,
   "metadata": {},
   "outputs": [
    {
     "data": {
      "text/html": [
       "<div>\n",
       "<style scoped>\n",
       "    .dataframe tbody tr th:only-of-type {\n",
       "        vertical-align: middle;\n",
       "    }\n",
       "\n",
       "    .dataframe tbody tr th {\n",
       "        vertical-align: top;\n",
       "    }\n",
       "\n",
       "    .dataframe thead th {\n",
       "        text-align: right;\n",
       "    }\n",
       "</style>\n",
       "<table border=\"1\" class=\"dataframe\">\n",
       "  <thead>\n",
       "    <tr style=\"text-align: right;\">\n",
       "      <th></th>\n",
       "      <th>date</th>\n",
       "      <th>total_cases</th>\n",
       "    </tr>\n",
       "  </thead>\n",
       "  <tbody>\n",
       "    <tr>\n",
       "      <th>14369</th>\n",
       "      <td>0</td>\n",
       "      <td>NaN</td>\n",
       "    </tr>\n",
       "    <tr>\n",
       "      <th>14370</th>\n",
       "      <td>1</td>\n",
       "      <td>NaN</td>\n",
       "    </tr>\n",
       "    <tr>\n",
       "      <th>14371</th>\n",
       "      <td>2</td>\n",
       "      <td>NaN</td>\n",
       "    </tr>\n",
       "    <tr>\n",
       "      <th>14372</th>\n",
       "      <td>3</td>\n",
       "      <td>NaN</td>\n",
       "    </tr>\n",
       "    <tr>\n",
       "      <th>14373</th>\n",
       "      <td>4</td>\n",
       "      <td>NaN</td>\n",
       "    </tr>\n",
       "    <tr>\n",
       "      <th>...</th>\n",
       "      <td>...</td>\n",
       "      <td>...</td>\n",
       "    </tr>\n",
       "    <tr>\n",
       "      <th>14673</th>\n",
       "      <td>304</td>\n",
       "      <td>166302.0</td>\n",
       "    </tr>\n",
       "    <tr>\n",
       "      <th>14674</th>\n",
       "      <td>305</td>\n",
       "      <td>167147.0</td>\n",
       "    </tr>\n",
       "    <tr>\n",
       "      <th>14675</th>\n",
       "      <td>306</td>\n",
       "      <td>168192.0</td>\n",
       "    </tr>\n",
       "    <tr>\n",
       "      <th>14676</th>\n",
       "      <td>307</td>\n",
       "      <td>169194.0</td>\n",
       "    </tr>\n",
       "    <tr>\n",
       "      <th>14677</th>\n",
       "      <td>308</td>\n",
       "      <td>169562.0</td>\n",
       "    </tr>\n",
       "  </tbody>\n",
       "</table>\n",
       "<p>309 rows × 2 columns</p>\n",
       "</div>"
      ],
      "text/plain": [
       "       date  total_cases\n",
       "14369     0          NaN\n",
       "14370     1          NaN\n",
       "14371     2          NaN\n",
       "14372     3          NaN\n",
       "14373     4          NaN\n",
       "...     ...          ...\n",
       "14673   304     166302.0\n",
       "14674   305     167147.0\n",
       "14675   306     168192.0\n",
       "14676   307     169194.0\n",
       "14677   308     169562.0\n",
       "\n",
       "[309 rows x 2 columns]"
      ]
     },
     "execution_count": 3,
     "metadata": {},
     "output_type": "execute_result"
    }
   ],
   "source": [
    "dataset = dataset[dataset['location'].isin(['Ecuador'])] #Filtro la Informacion solo para Ecuador\n",
    "dataset = dataset.loc[:,['date','total_cases']] #Selecciono las columnas de analasis\n",
    "# Expresar las fechas en numero de dias desde el 01 Enero\n",
    "FMT = '%Y-%m-%d'\n",
    "date = dataset['date']\n",
    "dataset['date'] = date.map(lambda x : (datetime.strptime(x, FMT) - datetime.strptime(\"2019-12-31\", FMT)).days)\n",
    "\n",
    "dataset"
   ]
  },
  {
   "cell_type": "markdown",
   "metadata": {},
   "source": [
    "## Eliminamos las filas con valores nulos"
   ]
  },
  {
   "cell_type": "code",
   "execution_count": 4,
   "metadata": {},
   "outputs": [
    {
     "data": {
      "text/html": [
       "<div>\n",
       "<style scoped>\n",
       "    .dataframe tbody tr th:only-of-type {\n",
       "        vertical-align: middle;\n",
       "    }\n",
       "\n",
       "    .dataframe tbody tr th {\n",
       "        vertical-align: top;\n",
       "    }\n",
       "\n",
       "    .dataframe thead th {\n",
       "        text-align: right;\n",
       "    }\n",
       "</style>\n",
       "<table border=\"1\" class=\"dataframe\">\n",
       "  <thead>\n",
       "    <tr style=\"text-align: right;\">\n",
       "      <th></th>\n",
       "      <th>date</th>\n",
       "      <th>total_cases</th>\n",
       "    </tr>\n",
       "  </thead>\n",
       "  <tbody>\n",
       "    <tr>\n",
       "      <th>14430</th>\n",
       "      <td>61</td>\n",
       "      <td>1.0</td>\n",
       "    </tr>\n",
       "    <tr>\n",
       "      <th>14431</th>\n",
       "      <td>62</td>\n",
       "      <td>6.0</td>\n",
       "    </tr>\n",
       "    <tr>\n",
       "      <th>14432</th>\n",
       "      <td>63</td>\n",
       "      <td>7.0</td>\n",
       "    </tr>\n",
       "    <tr>\n",
       "      <th>14434</th>\n",
       "      <td>65</td>\n",
       "      <td>10.0</td>\n",
       "    </tr>\n",
       "    <tr>\n",
       "      <th>14435</th>\n",
       "      <td>66</td>\n",
       "      <td>13.0</td>\n",
       "    </tr>\n",
       "    <tr>\n",
       "      <th>...</th>\n",
       "      <td>...</td>\n",
       "      <td>...</td>\n",
       "    </tr>\n",
       "    <tr>\n",
       "      <th>14673</th>\n",
       "      <td>304</td>\n",
       "      <td>166302.0</td>\n",
       "    </tr>\n",
       "    <tr>\n",
       "      <th>14674</th>\n",
       "      <td>305</td>\n",
       "      <td>167147.0</td>\n",
       "    </tr>\n",
       "    <tr>\n",
       "      <th>14675</th>\n",
       "      <td>306</td>\n",
       "      <td>168192.0</td>\n",
       "    </tr>\n",
       "    <tr>\n",
       "      <th>14676</th>\n",
       "      <td>307</td>\n",
       "      <td>169194.0</td>\n",
       "    </tr>\n",
       "    <tr>\n",
       "      <th>14677</th>\n",
       "      <td>308</td>\n",
       "      <td>169562.0</td>\n",
       "    </tr>\n",
       "  </tbody>\n",
       "</table>\n",
       "<p>243 rows × 2 columns</p>\n",
       "</div>"
      ],
      "text/plain": [
       "       date  total_cases\n",
       "14430    61          1.0\n",
       "14431    62          6.0\n",
       "14432    63          7.0\n",
       "14434    65         10.0\n",
       "14435    66         13.0\n",
       "...     ...          ...\n",
       "14673   304     166302.0\n",
       "14674   305     167147.0\n",
       "14675   306     168192.0\n",
       "14676   307     169194.0\n",
       "14677   308     169562.0\n",
       "\n",
       "[243 rows x 2 columns]"
      ]
     },
     "execution_count": 4,
     "metadata": {},
     "output_type": "execute_result"
    }
   ],
   "source": [
    "dataset2 = dataset.replace(-1, np.NaN).dropna()\n",
    "dataset2\n"
   ]
  },
  {
   "cell_type": "code",
   "execution_count": 5,
   "metadata": {},
   "outputs": [
    {
     "data": {
      "text/plain": [
       "<matplotlib.axes._subplots.AxesSubplot at 0x1574e6014c8>"
      ]
     },
     "execution_count": 5,
     "metadata": {},
     "output_type": "execute_result"
    },
    {
     "data": {
      "image/png": "[encoded data removed]",
      "text/plain": [
       "<Figure size 432x288 with 1 Axes>"
      ]
     },
     "metadata": {
      "needs_background": "light"
     },
     "output_type": "display_data"
    }
   ],
   "source": [
    "dataset2.plot(x ='date', y='total_cases')"
   ]
  },
  {
   "cell_type": "markdown",
   "metadata": {},
   "source": [
    "## Presentamos el dataset limpio de valores nulos"
   ]
  },
  {
   "cell_type": "code",
   "execution_count": 6,
   "metadata": {},
   "outputs": [
    {
     "data": {
      "text/html": [
       "<div>\n",
       "<style scoped>\n",
       "    .dataframe tbody tr th:only-of-type {\n",
       "        vertical-align: middle;\n",
       "    }\n",
       "\n",
       "    .dataframe tbody tr th {\n",
       "        vertical-align: top;\n",
       "    }\n",
       "\n",
       "    .dataframe thead th {\n",
       "        text-align: right;\n",
       "    }\n",
       "</style>\n",
       "<table border=\"1\" class=\"dataframe\">\n",
       "  <thead>\n",
       "    <tr style=\"text-align: right;\">\n",
       "      <th></th>\n",
       "      <th>date</th>\n",
       "      <th>total_cases</th>\n",
       "    </tr>\n",
       "  </thead>\n",
       "  <tbody>\n",
       "    <tr>\n",
       "      <th>14430</th>\n",
       "      <td>61</td>\n",
       "      <td>1.0</td>\n",
       "    </tr>\n",
       "    <tr>\n",
       "      <th>14431</th>\n",
       "      <td>62</td>\n",
       "      <td>6.0</td>\n",
       "    </tr>\n",
       "    <tr>\n",
       "      <th>14432</th>\n",
       "      <td>63</td>\n",
       "      <td>7.0</td>\n",
       "    </tr>\n",
       "    <tr>\n",
       "      <th>14434</th>\n",
       "      <td>65</td>\n",
       "      <td>10.0</td>\n",
       "    </tr>\n",
       "    <tr>\n",
       "      <th>14435</th>\n",
       "      <td>66</td>\n",
       "      <td>13.0</td>\n",
       "    </tr>\n",
       "    <tr>\n",
       "      <th>...</th>\n",
       "      <td>...</td>\n",
       "      <td>...</td>\n",
       "    </tr>\n",
       "    <tr>\n",
       "      <th>14673</th>\n",
       "      <td>304</td>\n",
       "      <td>166302.0</td>\n",
       "    </tr>\n",
       "    <tr>\n",
       "      <th>14674</th>\n",
       "      <td>305</td>\n",
       "      <td>167147.0</td>\n",
       "    </tr>\n",
       "    <tr>\n",
       "      <th>14675</th>\n",
       "      <td>306</td>\n",
       "      <td>168192.0</td>\n",
       "    </tr>\n",
       "    <tr>\n",
       "      <th>14676</th>\n",
       "      <td>307</td>\n",
       "      <td>169194.0</td>\n",
       "    </tr>\n",
       "    <tr>\n",
       "      <th>14677</th>\n",
       "      <td>308</td>\n",
       "      <td>169562.0</td>\n",
       "    </tr>\n",
       "  </tbody>\n",
       "</table>\n",
       "<p>243 rows × 2 columns</p>\n",
       "</div>"
      ],
      "text/plain": [
       "       date  total_cases\n",
       "14430    61          1.0\n",
       "14431    62          6.0\n",
       "14432    63          7.0\n",
       "14434    65         10.0\n",
       "14435    66         13.0\n",
       "...     ...          ...\n",
       "14673   304     166302.0\n",
       "14674   305     167147.0\n",
       "14675   306     168192.0\n",
       "14676   307     169194.0\n",
       "14677   308     169562.0\n",
       "\n",
       "[243 rows x 2 columns]"
      ]
     },
     "execution_count": 6,
     "metadata": {},
     "output_type": "execute_result"
    }
   ],
   "source": [
    "dataset2"
   ]
  },
  {
   "cell_type": "markdown",
   "metadata": {},
   "source": [
    "# Aplicando el modelo lineal "
   ]
  },
  {
   "cell_type": "code",
   "execution_count": 7,
   "metadata": {},
   "outputs": [
    {
     "name": "stdout",
     "output_type": "stream",
     "text": [
      "Coefficients: \n",
      " [727.08534877]\n",
      "Independent term: \n",
      " -66583.68254486441\n"
     ]
    }
   ],
   "source": [
    "x = list(dataset2.iloc [:, 0]) # Fecha\n",
    "y = list(dataset2.iloc [:, 1]) # Numero de casos\n",
    "# Creamos el objeto de Regresión Lineal\n",
    "regr = linear_model.LinearRegression()\n",
    " \n",
    "# Entrenamos nuestro modelo\n",
    "regr.fit(np.array(x).reshape(-1, 1) ,y)\n",
    "\n",
    "# Veamos los coeficienetes obtenidos, En nuestro caso, serán la Tangente\n",
    "print('Coefficients: \\n', regr.coef_)\n",
    "# Este es el valor donde corta el eje Y (en X=0)\n",
    "print('Independent term: \\n', regr.intercept_)\n",
    "# Error Cuadrado Medio"
   ]
  },
  {
   "cell_type": "code",
   "execution_count": 8,
   "metadata": {
    "scrolled": true
   },
   "outputs": [
    {
     "name": "stdout",
     "output_type": "stream",
     "text": [
      "El número de infectados el 10 de noviembre del 2020 será:  162448\n",
      "El número de infectados el 1 de diciembre del 2020 será:  177716\n"
     ]
    }
   ],
   "source": [
    "y_prediccion = regr.predict([[315]])\n",
    "print(\"El número de infectados el 10 de noviembre del 2020 será: \", int(y_prediccion))\n",
    "\n",
    "y_prediccion = regr.predict([[336]])\n",
    "print(\"El número de infectados el 1 de diciembre del 2020 será: \", int(y_prediccion))"
   ]
  },
  {
   "cell_type": "code",
   "execution_count": 9,
   "metadata": {},
   "outputs": [
    {
     "data": {
      "image/png": "[encoded data removed]",
      "text/plain": [
       "<Figure size 432x288 with 1 Axes>"
      ]
     },
     "metadata": {
      "needs_background": "light"
     },
     "output_type": "display_data"
    }
   ],
   "source": [
    "#Graficar\n",
    "plt.scatter(x, y)\n",
    "x_real = np.array(range(0, 400))\n",
    "#print(x_real)\n",
    "plt.plot(x_real, regr.predict(x_real.reshape(-1, 1)), color='green')\n",
    "plt.show()"
   ]
  },
  {
   "cell_type": "markdown",
   "metadata": {},
   "source": [
    "# Aplicando el modelo Logistico"
   ]
  },
  {
   "cell_type": "code",
   "execution_count": 10,
   "metadata": {},
   "outputs": [
    {
     "name": "stdout",
     "output_type": "stream",
     "text": [
      "(array([-522474.1438493 ,  114959.20607545]), array([[ 1.58892449e+08, -3.06569296e+07],\n",
      "       [-3.06569296e+07,  5.95553059e+06]]))\n"
     ]
    }
   ],
   "source": [
    "def modelo_logistico(x,a,b):\n",
    "    return a+b*np.log(x)\n",
    "\n",
    "exp_fit = curve_fit(modelo_logistico,x,y) #Extraemos los valores de los paramatros\n",
    "print(exp_fit)\n"
   ]
  },
  {
   "cell_type": "code",
   "execution_count": 11,
   "metadata": {},
   "outputs": [
    {
     "data": {
      "image/png": "[encoded data removed]",
      "text/plain": [
       "<Figure size 720x720 with 1 Axes>"
      ]
     },
     "metadata": {
      "needs_background": "light"
     },
     "output_type": "display_data"
    },
    {
     "name": "stdout",
     "output_type": "stream",
     "text": [
      "(array([-522474.1438493 ,  114959.20607545]), array([[ 1.58892449e+08, -3.06569296e+07],\n",
      "       [-3.06569296e+07,  5.95553059e+06]]))\n"
     ]
    }
   ],
   "source": [
    "\n",
    "pred_x = list(range(min(x),max(x)+315)) # Predecir 50 dias mas\n",
    "plt.rcParams['figure.figsize'] = [10, 10]\n",
    "plt.rc('font', size=14)\n",
    "# Real data\n",
    "plt.scatter(x,y,label=\"Datos Reales\",color=\"red\")\n",
    "# Predicted exponential curve\n",
    "plt.plot(pred_x, [modelo_logistico(i,exp_fit[0][0],exp_fit[0][1]) for i in pred_x], label=\"Modelo Logistico\" )\n",
    "plt.legend()\n",
    "plt.xlabel(\"Desde el 1 Enero 2020\")\n",
    "plt.ylabel(\"Total de personas infectadas\")\n",
    "plt.ylim((min(y)*0.9,max(y)*3.1)) # Definir los limites de Y\n",
    "plt.show()\n",
    "print (exp_fit)"
   ]
  },
  {
   "attachments": {
    "image.png": {
     "image/png": "[encoded data removed]"
    }
   },
   "cell_type": "markdown",
   "metadata": {},
   "source": [
    "## Modelo exponencial\n",
    "\n",
    "Mientras que el modelo logístico describe un crecimiento de infección que se detendrá en el futuro, el modelo exponencial describe un crecimiento de infección imparable . Por ejemplo, si un paciente infecta a 2 pacientes por día, después de 1 día tendremos 2 infecciones, 4 después de 2 días, 8 después de 3 y así sucesivamente.\n",
    "\n",
    "![image.png](attachment:image.png)"
   ]
  },
  {
   "attachments": {
    "image.png": {
     "image/png": "[encoded data removed]"
    }
   },
   "cell_type": "markdown",
   "metadata": {},
   "source": [
    "A continuacion se tiene un ejemplo de regresion exponencial\n",
    "\n",
    "![image.png](attachment:image.png)"
   ]
  },
  {
   "cell_type": "code",
   "execution_count": 19,
   "metadata": {},
   "outputs": [
    {
     "data": {
      "image/png": "[encoded data removed]",
      "text/plain": [
       "<Figure size 720x720 with 1 Axes>"
      ]
     },
     "metadata": {
      "needs_background": "light"
     },
     "output_type": "display_data"
    },
    {
     "name": "stdout",
     "output_type": "stream",
     "text": [
      "El número de infectados el 10 de noviembre del 2020 será:  201504.83111140755\n",
      "El número de infectados el 1 de diciembre del 2020 será:  248196.05274341695\n"
     ]
    }
   ],
   "source": [
    "# Implementar\n",
    "x1 = np.array(x, dtype=float) #transformo mi array de datos a floats \n",
    "y1 = np.array(y, dtype=float)\n",
    "\n",
    "def mod_exponencial(x, a, b): #funcion que permite realizar la regrecion con el modelo exponencial\n",
    "    return a * np.exp(b * x) \n",
    "\n",
    "popt, pcov = curve_fit(mod_exponencial, x1, y1, p0=(0,0.1))\n",
    "\n",
    "#Grfica del modelo exponencial\n",
    "\n",
    "plt.plot(x1, y1, 'bo',label=\"Original Data\")\n",
    "plt.plot(x1, mod_exponencial(x1,*popt),color='red')\n",
    "plt.show()\n",
    "\n",
    "\n",
    "pro_x = mod_exponencial(315,*popt)\n",
    "print(\"El número de infectados el 10 de noviembre del 2020 será: \", pro_x)\n",
    "\n",
    "pro_x = mod_exponencial(336,*popt)\n",
    "print(\"El número de infectados el 1 de diciembre del 2020 será: \", pro_x)\n"
   ]
  },
  {
   "attachments": {
    "image.png": {
     "image/png": "[encoded data removed]"
    }
   },
   "cell_type": "markdown",
   "metadata": {},
   "source": [
    "## Modelo polinomial\n",
    "Predicción de una variable de respuesta cuantitativa a partir de una variable predictora cuantitativa, donde la relación se modela como una función polinomial de orden n (esto significa que pueden tener de diferentes exponenciales o grados y se debe ir probando)  \n",
    "\n",
    "Se puede tener una ecuacion con diferentes grados\n",
    "\n",
    "y = a0 + a1x + a2x^2 + a3x^3 + … + anx^n + ε\n",
    "\n",
    "Ejemplo de una regresion polinomica de grado 4.\n",
    "![image.png](attachment:image.png)"
   ]
  },
  {
   "cell_type": "code",
   "execution_count": 21,
   "metadata": {},
   "outputs": [
    {
     "data": {
      "image/png": "[encoded data removed]",
      "text/plain": [
       "<Figure size 720x720 with 1 Axes>"
      ]
     },
     "metadata": {
      "needs_background": "light"
     },
     "output_type": "display_data"
    },
    {
     "name": "stdout",
     "output_type": "stream",
     "text": [
      "El número de infectados el 10 de noviembre del 2020 será:  176563.12088436895\n",
      "El número de infectados el 1 de diciembre del 2020 será:  200828.21933974436\n"
     ]
    }
   ],
   "source": [
    "# Implementar \n",
    "\n",
    "x2 = np.array(x, dtype=float)\n",
    "y2 = np.array(y, dtype=float) \n",
    "\n",
    "def func_polinomial(x, a, b, c, d, e):\n",
    "    return a*x**4 + b*x**3 + c*x**2 + d*x + e\n",
    "\n",
    "popt1, pcov1 = curve_fit(func_polinomial, x2, y2)\n",
    "#print (\"a = %s , b = %s, c = %s, d = %s, e = %s\" % (popt1[0], popt1[1], popt1[2], popt1[3], popt1[4]))\n",
    "\n",
    "plt.plot(x2, y2, 'bo',label=\"Datos Originales\")\n",
    "plt.plot(x2, func_polinomial(x2, *popt1), color = 'red')\n",
    "plt.show()\n",
    "\n",
    "\n",
    "\n",
    "pro_x1 = func_polinomial(315,*popt1)\n",
    "print(\"El número de infectados el 10 de noviembre del 2020 será: \", pro_x1)\n",
    "\n",
    "pro_x1 = func_polinomial(336,*popt1)\n",
    "print(\"El número de infectados el 1 de diciembre del 2020 será: \", pro_x1)\n"
   ]
  },
  {
   "cell_type": "markdown",
   "metadata": {},
   "source": [
    "## Análisis\n",
    "El analisis respecto a las graficas realizadas con lenguaje python nos presenta que tanto el modelo exponencial como el modelo polinomial permiten realizar un mejor acercamiento a los casos de infectados con los que cuenta el Ecuador, mediante estos datos se logro hacer una predicción para las fechas que ya llevabamos realizando en tareas pasadas, es decir, para el 10 de noviembre de 2020 y para el 1 de diciembre de 2020, con lo que se logro visualizar cuanto es la curva de crecimiento que se presentara a futuro, con los datos obtenidos puedo afirmar que el mejor modelo es el polinomial, ya que su  prediccion es la mas acertada en la vida real.\n",
    "\n",
    "En cuanto al desarrollo de los algoritmos, fue necesario aprender e investigar los conceptos básicos cada una de las funciones que nos permiten realizar los modelos de regresion, de igual manera el revisar la información que nos proporcion el Docente.\n",
    "\n",
    "## Conclusiones\n",
    "En conclucion como ya se menciono en el análisis, los dos modelos tanto el exponencial como el polinomial de cuarto orden se apegan bastante con la informacion proporcinada por nuestro dataset y los datos actuales reales de infectados por COVID, tambien se puede concluir que el modelo exponencial nos brinda una proyeccion creciente es decir que la tasa de infeccion siempre estara en constante crecimeinto, pero el polinomial nos da ha entender por la proyeccion que la tasa de infeccion es mas gradual y en algun momento el numero de contagios frenara o disminuira.\n",
    "\n",
    "## Criterio personal (político, económico y social de la situación)\n",
    "La pandemia de Coronavirus que esta afectando al país y al mundo esta golpeando muy fuerte a la economía mundial, aunque muchos personas tratan de regresar a la normalidad o, a la nueva normalidad, muchos otros no lo logran, ya que han perdido sus empleos, familiares, o incluso tienen secuelas del propio virus en su cuerpo.\n",
    "\n",
    "La economía ha sufrido un fuerte golpe y los más afectados son las personas de bajos recursos, empresas grandes lucharan por mantenerse y no quebrar, por lo que realizan despidos masivos, esto genera una subida considerable en el índice de la delincuencia, las necesidades en el país siguen creciendo y ahora con los nuevos comicios electorales próximos a realizarse, las molestias de la gente se harán notar.\n",
    "\n",
    "El nuevo presidente que tome la batuta del país tendrá que comenzar por generar un plan inmediato que empieze a alzar la economía del país, los ecuatorianos necesitan acciones y lo antes posible, los hospitales estan llenos y la gente toma sus medidas de bioseguridad, sin embargo, no se puede permanecer siempre en las casas, muchos viven del día a día y necesitamos que nuestras autoridades hagan algo y pronto."
   ]
  },
  {
   "cell_type": "markdown",
   "metadata": {},
   "source": [
    "# Referencias\n",
    "\n",
    "- https://www.researchgate.net/publication/340092755_Infeccion_del_Covid-19_en_Colombia_Una_comparacion_de_modelos_logisticos_y_exponenciales_aplicados_a_la_infeccion_por_el_virus_en_Colombia\n",
    "\n",
    "- https://www.aprendemachinelearning.com/regresion-lineal-en-espanol-con-python/"
   ]
  },
  {
   "cell_type": "code",
   "execution_count": null,
   "metadata": {},
   "outputs": [],
   "source": []
  }
 ],
 "metadata": {
  "kernelspec": {
   "display_name": "Python 3",
   "language": "python",
   "name": "python3"
  },
  "language_info": {
   "codemirror_mode": {
    "name": "ipython",
    "version": 3
   },
   "file_extension": ".py",
   "mimetype": "text/x-python",
   "name": "python",
   "nbconvert_exporter": "python",
   "pygments_lexer": "ipython3",
   "version": "3.7.6"
  }
 },
 "nbformat": 4,
 "nbformat_minor": 4
}
