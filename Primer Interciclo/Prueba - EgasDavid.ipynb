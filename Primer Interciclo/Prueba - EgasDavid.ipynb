{
 "cells": [
  {
   "attachments": {},
   "cell_type": "markdown",
   "metadata": {},
   "source": [
    "# UNIVERSIDAD POLITÉCNICA SALESIANA\n",
    "\n",
    "## Nombre: David Egas\n",
    "\n",
    "### Desarrollo\n",
    "* Diseñe y desarrolle un modelo y/o script que permita simular el siguiente caso real: <br>\n",
    "  Investigar los datos de los paises contigados por COVID-19, especialmente de latinoamerica (menos Ecuador), deberán escoger uno y que no se repita, para ello se va a seleccionar el orden en el que publique dentro del foro “Tema prueba 1”, con estos datos obtener los siguientes modelos:<br>\n",
    "    * Generar un modelo matematico de prediccion para regresion lineal, exponencial, polinomico y logaritmico, de los nuevos contactos en la proxima semana (7 dias despues).\n",
    "    * Generar un modelo probabilistico con los datos.\n",
    "    * Finalmente, contrarestar los modelos matematicos y generar las siguientes conclusiones \n",
    "        - Cual tiene una mejor prediccion\n",
    "        - Ventajas y desventajas de los modelos.\n",
    "        - Cual es el principal problema del modelo probabilistico\n",
    "* El proceso de simulación desarrollado deberá considerar los siguientes aspectos:\n",
    "    * Se debe establecer un modelo basado en modelos matematicos y probabilisticos.\n",
    "    * El programa deberá generar gráficas que indiquen la ecuacion matematica y probabilistica de tendencias.\n",
    "    * Deben calcularse las siguientes métricas:\n",
    "    * Total de infectados dentro de 7 dias (matematico y probabilistico).\n",
    "\n",
    "### País elegido: Argentina"
   ]
  },
  {
   "cell_type": "code",
   "execution_count": 38,
   "metadata": {},
   "outputs": [],
   "source": [
    "# Importamos las librerias\n",
    "import numpy as np\n",
    "import pandas as pd\n",
    "import matplotlib.pyplot as plt"
   ]
  },
  {
   "cell_type": "code",
   "execution_count": 39,
   "metadata": {},
   "outputs": [
    {
     "data": {
      "text/html": [
       "<div>\n",
       "<style scoped>\n",
       "    .dataframe tbody tr th:only-of-type {\n",
       "        vertical-align: middle;\n",
       "    }\n",
       "\n",
       "    .dataframe tbody tr th {\n",
       "        vertical-align: top;\n",
       "    }\n",
       "\n",
       "    .dataframe thead th {\n",
       "        text-align: right;\n",
       "    }\n",
       "</style>\n",
       "<table border=\"1\" class=\"dataframe\">\n",
       "  <thead>\n",
       "    <tr style=\"text-align: right;\">\n",
       "      <th></th>\n",
       "      <th>Región</th>\n",
       "      <th>Total</th>\n",
       "      <th>Total Casos</th>\n",
       "    </tr>\n",
       "  </thead>\n",
       "  <tbody>\n",
       "    <tr>\n",
       "      <th>0</th>\n",
       "      <td>03-Mar</td>\n",
       "      <td>0.0</td>\n",
       "      <td>0.0</td>\n",
       "    </tr>\n",
       "    <tr>\n",
       "      <th>1</th>\n",
       "      <td>04-Mar</td>\n",
       "      <td>2.0</td>\n",
       "      <td>2.0</td>\n",
       "    </tr>\n",
       "    <tr>\n",
       "      <th>2</th>\n",
       "      <td>05-Mar</td>\n",
       "      <td>1.0</td>\n",
       "      <td>3.0</td>\n",
       "    </tr>\n",
       "    <tr>\n",
       "      <th>3</th>\n",
       "      <td>06-Mar</td>\n",
       "      <td>1.0</td>\n",
       "      <td>4.0</td>\n",
       "    </tr>\n",
       "    <tr>\n",
       "      <th>4</th>\n",
       "      <td>07-Mar</td>\n",
       "      <td>2.0</td>\n",
       "      <td>6.0</td>\n",
       "    </tr>\n",
       "    <tr>\n",
       "      <th>...</th>\n",
       "      <td>...</td>\n",
       "      <td>...</td>\n",
       "      <td>...</td>\n",
       "    </tr>\n",
       "    <tr>\n",
       "      <th>261</th>\n",
       "      <td>19-Nov</td>\n",
       "      <td>1455.0</td>\n",
       "      <td>504185.0</td>\n",
       "    </tr>\n",
       "    <tr>\n",
       "      <th>262</th>\n",
       "      <td>20-Nov</td>\n",
       "      <td>1573.0</td>\n",
       "      <td>505758.0</td>\n",
       "    </tr>\n",
       "    <tr>\n",
       "      <th>263</th>\n",
       "      <td>21-Nov</td>\n",
       "      <td>1550.0</td>\n",
       "      <td>507308.0</td>\n",
       "    </tr>\n",
       "    <tr>\n",
       "      <th>264</th>\n",
       "      <td>22-Nov</td>\n",
       "      <td>1497.0</td>\n",
       "      <td>508805.0</td>\n",
       "    </tr>\n",
       "    <tr>\n",
       "      <th>265</th>\n",
       "      <td>23-Nov</td>\n",
       "      <td>1440.0</td>\n",
       "      <td>510245.0</td>\n",
       "    </tr>\n",
       "  </tbody>\n",
       "</table>\n",
       "<p>266 rows × 3 columns</p>\n",
       "</div>"
      ],
      "text/plain": [
       "     Región   Total  Total Casos\n",
       "0    03-Mar     0.0          0.0\n",
       "1    04-Mar     2.0          2.0\n",
       "2    05-Mar     1.0          3.0\n",
       "3    06-Mar     1.0          4.0\n",
       "4    07-Mar     2.0          6.0\n",
       "..      ...     ...          ...\n",
       "261  19-Nov  1455.0     504185.0\n",
       "262  20-Nov  1573.0     505758.0\n",
       "263  21-Nov  1550.0     507308.0\n",
       "264  22-Nov  1497.0     508805.0\n",
       "265  23-Nov  1440.0     510245.0\n",
       "\n",
       "[266 rows x 3 columns]"
      ]
     },
     "execution_count": 39,
     "metadata": {},
     "output_type": "execute_result"
    }
   ],
   "source": [
    "# Cargamos el dataset\n",
    "dataset = pd.read_csv('argentinaDataset.csv')\n",
    "\n",
    "\n",
    "# Agregamos un fila de total casos nuevos\n",
    "def obtener_total_casos(valores):\n",
    "    nuevos_casos = []\n",
    "    for i, valor in enumerate(valores):\n",
    "        if i > 0:\n",
    "            nuevo_valor = nuevos_casos[i-1] + valor\n",
    "        else:\n",
    "            nuevo_valor = valor\n",
    "        nuevos_casos.append(nuevo_valor)\n",
    "    # retornamos la nueva lista\n",
    "    return nuevos_casos\n",
    "\n",
    "dataset['Total Casos'] = obtener_total_casos(dataset['Total'])\n",
    "dataset"
   ]
  },
  {
   "cell_type": "markdown",
   "metadata": {},
   "source": [
    "* Como observamos en la igamen, el data set solo contiene dos columnas indicandonos la fecha y el total de casas para entonces"
   ]
  },
  {
   "cell_type": "code",
   "execution_count": 40,
   "metadata": {},
   "outputs": [
    {
     "data": {
      "text/html": [
       "<div>\n",
       "<style scoped>\n",
       "    .dataframe tbody tr th:only-of-type {\n",
       "        vertical-align: middle;\n",
       "    }\n",
       "\n",
       "    .dataframe tbody tr th {\n",
       "        vertical-align: top;\n",
       "    }\n",
       "\n",
       "    .dataframe thead th {\n",
       "        text-align: right;\n",
       "    }\n",
       "</style>\n",
       "<table border=\"1\" class=\"dataframe\">\n",
       "  <thead>\n",
       "    <tr style=\"text-align: right;\">\n",
       "      <th></th>\n",
       "      <th>Región</th>\n",
       "      <th>Total</th>\n",
       "      <th>Total Casos</th>\n",
       "      <th>Dia</th>\n",
       "    </tr>\n",
       "  </thead>\n",
       "  <tbody>\n",
       "    <tr>\n",
       "      <th>0</th>\n",
       "      <td>03-Mar</td>\n",
       "      <td>0.0</td>\n",
       "      <td>0.0</td>\n",
       "      <td>63</td>\n",
       "    </tr>\n",
       "    <tr>\n",
       "      <th>1</th>\n",
       "      <td>04-Mar</td>\n",
       "      <td>2.0</td>\n",
       "      <td>2.0</td>\n",
       "      <td>64</td>\n",
       "    </tr>\n",
       "    <tr>\n",
       "      <th>2</th>\n",
       "      <td>05-Mar</td>\n",
       "      <td>1.0</td>\n",
       "      <td>3.0</td>\n",
       "      <td>65</td>\n",
       "    </tr>\n",
       "    <tr>\n",
       "      <th>3</th>\n",
       "      <td>06-Mar</td>\n",
       "      <td>1.0</td>\n",
       "      <td>4.0</td>\n",
       "      <td>66</td>\n",
       "    </tr>\n",
       "    <tr>\n",
       "      <th>4</th>\n",
       "      <td>07-Mar</td>\n",
       "      <td>2.0</td>\n",
       "      <td>6.0</td>\n",
       "      <td>67</td>\n",
       "    </tr>\n",
       "    <tr>\n",
       "      <th>...</th>\n",
       "      <td>...</td>\n",
       "      <td>...</td>\n",
       "      <td>...</td>\n",
       "      <td>...</td>\n",
       "    </tr>\n",
       "    <tr>\n",
       "      <th>261</th>\n",
       "      <td>19-Nov</td>\n",
       "      <td>1455.0</td>\n",
       "      <td>504185.0</td>\n",
       "      <td>324</td>\n",
       "    </tr>\n",
       "    <tr>\n",
       "      <th>262</th>\n",
       "      <td>20-Nov</td>\n",
       "      <td>1573.0</td>\n",
       "      <td>505758.0</td>\n",
       "      <td>325</td>\n",
       "    </tr>\n",
       "    <tr>\n",
       "      <th>263</th>\n",
       "      <td>21-Nov</td>\n",
       "      <td>1550.0</td>\n",
       "      <td>507308.0</td>\n",
       "      <td>326</td>\n",
       "    </tr>\n",
       "    <tr>\n",
       "      <th>264</th>\n",
       "      <td>22-Nov</td>\n",
       "      <td>1497.0</td>\n",
       "      <td>508805.0</td>\n",
       "      <td>327</td>\n",
       "    </tr>\n",
       "    <tr>\n",
       "      <th>265</th>\n",
       "      <td>23-Nov</td>\n",
       "      <td>1440.0</td>\n",
       "      <td>510245.0</td>\n",
       "      <td>328</td>\n",
       "    </tr>\n",
       "  </tbody>\n",
       "</table>\n",
       "<p>266 rows × 4 columns</p>\n",
       "</div>"
      ],
      "text/plain": [
       "     Región   Total  Total Casos  Dia\n",
       "0    03-Mar     0.0          0.0   63\n",
       "1    04-Mar     2.0          2.0   64\n",
       "2    05-Mar     1.0          3.0   65\n",
       "3    06-Mar     1.0          4.0   66\n",
       "4    07-Mar     2.0          6.0   67\n",
       "..      ...     ...          ...  ...\n",
       "261  19-Nov  1455.0     504185.0  324\n",
       "262  20-Nov  1573.0     505758.0  325\n",
       "263  21-Nov  1550.0     507308.0  326\n",
       "264  22-Nov  1497.0     508805.0  327\n",
       "265  23-Nov  1440.0     510245.0  328\n",
       "\n",
       "[266 rows x 4 columns]"
      ]
     },
     "execution_count": 40,
     "metadata": {},
     "output_type": "execute_result"
    }
   ],
   "source": [
    "# Convertimos la fecha alfanumeria a numerica\n",
    "from datetime import datetime\n",
    "FMT = '%d-%b-%Y'\n",
    "dates = dataset['Región']\n",
    "dataset['Dia'] = dates.map(lambda x : (datetime.strptime(x + '-2020', FMT) - datetime(2019, 12, 31)).days)\n",
    "dataset"
   ]
  },
  {
   "cell_type": "markdown",
   "metadata": {},
   "source": [
    "### MODELO LINEAL"
   ]
  },
  {
   "cell_type": "code",
   "execution_count": 41,
   "metadata": {},
   "outputs": [],
   "source": [
    "from sklearn import linear_model"
   ]
  },
  {
   "cell_type": "code",
   "execution_count": 42,
   "metadata": {},
   "outputs": [
    {
     "name": "stdout",
     "output_type": "stream",
     "text": [
      "Coefficients:  [2337.26823025]\n",
      "Independent term:  -213190.70217243346\n"
     ]
    }
   ],
   "source": [
    "x = list(dataset['Dia']) # Fecha\n",
    "y = list(dataset['Total Casos']) # Numero de casos\n",
    "# Creamos el objeto de Regresión Lineal\n",
    "regr = linear_model.LinearRegression()\n",
    " \n",
    "# Entrenamos nuestro modelo\n",
    "regr.fit(np.array(x).reshape(-1, 1) ,y)\n",
    "\n",
    "# Veamos los coeficienetes obtenidos, En nuestro caso, serán la Tangente\n",
    "print('Coefficients: ', regr.coef_)\n",
    "# Este es el valor donde corta el eje Y (en X=0)\n",
    "print('Independent term: ', regr.intercept_)"
   ]
  },
  {
   "cell_type": "code",
   "execution_count": 64,
   "metadata": {},
   "outputs": [
    {
     "data": {
      "image/png": "[encoded data removed]",
      "text/plain": [
       "<Figure size 432x288 with 1 Axes>"
      ]
     },
     "metadata": {
      "needs_background": "light"
     },
     "output_type": "display_data"
    }
   ],
   "source": [
    "# Graficamos la funcion\n",
    "plt.rc('font', size=10)\n",
    "plt.plot(x, y, label=\"Datos Reales\")\n",
    "x_real = np.array(range(0, 350))\n",
    "plt.plot(x_real, regr.predict(x_real.reshape(-1, 1)), color='red', label=\"Modelo lineal\")\n",
    "plt.legend()\n",
    "plt.xlabel(\"1 de Marzo de 2020\")\n",
    "plt.ylabel(\"Infectados\")\n",
    "plt.show()"
   ]
  },
  {
   "cell_type": "code",
   "execution_count": 44,
   "metadata": {},
   "outputs": [
    {
     "name": "stdout",
     "output_type": "stream",
     "text": [
      "Para el 28 de noviembre del 2020 los infectados rondaran los:  562782\n"
     ]
    }
   ],
   "source": [
    "# Predecimos total infectados dentro de 7 dias\n",
    "preducion_lineal = regr.predict([[332]])\n",
    "print(\"Para el 28 de noviembre del 2020 los infectados rondaran los: \", int(preducion_lineal))"
   ]
  },
  {
   "cell_type": "markdown",
   "metadata": {},
   "source": [
    "### MODELO EXPONENCIAL"
   ]
  },
  {
   "cell_type": "code",
   "execution_count": 45,
   "metadata": {},
   "outputs": [],
   "source": [
    "# importamos la libreria\n",
    "from scipy.optimize import curve_fit"
   ]
  },
  {
   "cell_type": "code",
   "execution_count": 46,
   "metadata": {},
   "outputs": [
    {
     "data": {
      "text/plain": [
       "array([4.23703263e+04, 8.18255959e-03])"
      ]
     },
     "execution_count": 46,
     "metadata": {},
     "output_type": "execute_result"
    }
   ],
   "source": [
    "# Implementamos la funcion exponencial\n",
    "x1 = np.array(x, dtype=float) # transformo mi array de datos a floats \n",
    "y1 = np.array(y, dtype=float)\n",
    "\n",
    "def modelo_exponencial(x, a, b): #funcion que permite realizar la regrecion con el modelo exponencial\n",
    "    return a * np.exp(b * x) \n",
    "\n",
    "popt1, pcov1 = curve_fit(modelo_exponencial, x1, y1, p0=(0,0.1))\n",
    "popt1"
   ]
  },
  {
   "cell_type": "code",
   "execution_count": 65,
   "metadata": {},
   "outputs": [
    {
     "data": {
      "image/png": "[encoded data removed]",
      "text/plain": [
       "<Figure size 432x288 with 1 Axes>"
      ]
     },
     "metadata": {
      "needs_background": "light"
     },
     "output_type": "display_data"
    }
   ],
   "source": [
    "# Grfica del modelo exponencial\n",
    "plt.rc('font', size=10)\n",
    "plt.plot(x1, y1, label=\"Datos Reales\")\n",
    "plt.plot(x1, modelo_exponencial(x1, *popt1), color='red', label=\"Modelo Exponencial\")\n",
    "plt.legend()\n",
    "plt.xlabel(\"1 de Marzo de 2020\")\n",
    "plt.ylabel(\"Infectados\")\n",
    "plt.show()"
   ]
  },
  {
   "cell_type": "code",
   "execution_count": 49,
   "metadata": {},
   "outputs": [
    {
     "name": "stdout",
     "output_type": "stream",
     "text": [
      "Para el 28 de Noviembre los infectados serán:  641018\n"
     ]
    }
   ],
   "source": [
    "# Predecimos total infectados dentro de 7 dias\n",
    "preducion_exponencial = modelo_exponencial(332, *popt1)\n",
    "print(\"Para el 28 de Noviembre los infectados serán: \", int(preducion_exponencial))"
   ]
  },
  {
   "cell_type": "markdown",
   "metadata": {},
   "source": [
    "### MODELO POLINOMICO"
   ]
  },
  {
   "cell_type": "code",
   "execution_count": 50,
   "metadata": {},
   "outputs": [
    {
     "data": {
      "text/plain": [
       "array([ 6.91946725e-04, -6.15648932e-01,  1.90687173e+02, -2.15205480e+04,\n",
       "        7.78039605e+05])"
      ]
     },
     "execution_count": 50,
     "metadata": {},
     "output_type": "execute_result"
    }
   ],
   "source": [
    "# Implementamos la funcion polinomica\n",
    "x2 = np.array(x, dtype=float) # transformo mi array de datos a floats \n",
    "y2 = np.array(y, dtype=float)\n",
    "\n",
    "def modelo_polinomial(x, a, b, c, d, e):\n",
    "    return a*x**4 + b*x**3 + c*x**2 + d*x + e\n",
    "\n",
    "popt2, pcov2 = curve_fit(modelo_polinomial, x2, y2)\n",
    "popt2"
   ]
  },
  {
   "cell_type": "code",
   "execution_count": 67,
   "metadata": {},
   "outputs": [
    {
     "data": {
      "image/png": "[encoded data removed]",
      "text/plain": [
       "<Figure size 432x288 with 1 Axes>"
      ]
     },
     "metadata": {
      "needs_background": "light"
     },
     "output_type": "display_data"
    }
   ],
   "source": [
    "# Grfica del modelo polinomica\n",
    "plt.rc('font', size=8)\n",
    "plt.plot(x2, y2, label=\"Datos Originales\")\n",
    "plt.plot(x2, modelo_polinomial(x2, *popt2), label=\"Modelo Polinomico\", color = 'red')\n",
    "plt.legend()\n",
    "plt.xlabel(\"1 de Marzo de 2020\")\n",
    "plt.ylabel(\"Infectados\")\n",
    "plt.show()"
   ]
  },
  {
   "cell_type": "code",
   "execution_count": 53,
   "metadata": {},
   "outputs": [
    {
     "name": "stdout",
     "output_type": "stream",
     "text": [
      "Los infectados para el 28 de noviembre del 2020 serán:  528926\n"
     ]
    }
   ],
   "source": [
    "# Predecimos total infectados dentro de 7 dias\n",
    "preducion_polinomica = modelo_polinomial(332, *popt2)\n",
    "print(\"Los infectados para el 28 de noviembre del 2020 serán: \", int(preducion_polinomica))"
   ]
  },
  {
   "cell_type": "markdown",
   "metadata": {},
   "source": [
    "### MODELO LOGISTICO"
   ]
  },
  {
   "cell_type": "code",
   "execution_count": 54,
   "metadata": {},
   "outputs": [
    {
     "data": {
      "text/plain": [
       "array([ 6.91946725e-04, -6.15648932e-01,  1.90687173e+02, -2.15205480e+04,\n",
       "        7.78039605e+05])"
      ]
     },
     "execution_count": 54,
     "metadata": {},
     "output_type": "execute_result"
    }
   ],
   "source": [
    "# Agreamos la funcion logistica\n",
    "x3 = np.array(x, dtype=float) # transformo mi array de datos a floats \n",
    "y3 = np.array(y, dtype=float)\n",
    "\n",
    "def modelo_logistico(x, a, b):\n",
    "    return a + b * np.log(x)\n",
    "\n",
    "popt3, pcov2 = curve_fit(modelo_logistico, x3, y3) # Extraemos los valores de los paramatros\n",
    "popt2"
   ]
  },
  {
   "cell_type": "code",
   "execution_count": 69,
   "metadata": {},
   "outputs": [
    {
     "data": {
      "image/png": "[encoded data removed]",
      "text/plain": [
       "<Figure size 432x288 with 1 Axes>"
      ]
     },
     "metadata": {
      "needs_background": "light"
     },
     "output_type": "display_data"
    }
   ],
   "source": [
    "# Grfica del modelo logistico\n",
    "plt.rc('font', size=10)\n",
    "plt.plot(x3, y3, label=\"Datos Reales\")\n",
    "plt.plot(x3, modelo_logistico(x3, *popt3), label=\"Modelo Logistico\", color=\"red\")\n",
    "plt.legend()\n",
    "plt.xlabel(\"1 de marzo de 2020\")\n",
    "plt.ylabel(\"Infectados\")\n",
    "plt.show()"
   ]
  },
  {
   "cell_type": "code",
   "execution_count": 56,
   "metadata": {},
   "outputs": [
    {
     "name": "stdout",
     "output_type": "stream",
     "text": [
      "Los infectados para 28 de noviembre serán:  486598\n"
     ]
    }
   ],
   "source": [
    "# Predecimos total infectados dentro de 7 dias\n",
    "preducion_logistica = modelo_logistico(332, *popt3) \n",
    "print(\"Los infectados para 28 de noviembre serán: \", int(preducion_logistica))"
   ]
  },
  {
   "cell_type": "markdown",
   "metadata": {},
   "source": [
    "### MODELO PROBABILISTICO"
   ]
  },
  {
   "cell_type": "code",
   "execution_count": 57,
   "metadata": {},
   "outputs": [
    {
     "name": "stdout",
     "output_type": "stream",
     "text": [
      "MEDIA:  1918.2142857142858\n",
      "MEDIANA:  1665.5\n"
     ]
    }
   ],
   "source": [
    "# Obtenemos los nevos casos\n",
    "filtro = dataset[\"Total\"] # Filtro los datos que se empezo a tener casos\n",
    "#Obtenemos la mediana\n",
    "media = filtro.mean()\n",
    "mediana = filtro.median()\n",
    "print(\"MEDIA: \", media)\n",
    "print(\"MEDIANA: \", mediana)"
   ]
  },
  {
   "cell_type": "code",
   "execution_count": 61,
   "metadata": {},
   "outputs": [
    {
     "name": "stdout",
     "output_type": "stream",
     "text": [
      "Los infectados el 28 de noviembre serán:  515240\n"
     ]
    }
   ],
   "source": [
    "# Predecimos total infectados dentro de 7 dias\n",
    "preducion_probabilistica = int(y4[-7] + mediana)\n",
    "print(\"Los infectados el 28 de noviembre serán: \", int(preducion_probabilistica))"
   ]
  },
  {
   "cell_type": "markdown",
   "metadata": {},
   "source": [
    "### Resultados"
   ]
  },
  {
   "cell_type": "markdown",
   "metadata": {},
   "source": [
    "### Comparación entre los modelos\n",
    "Modelo Lineal: 562782\n",
    "Modelo Exponencial: 641018\n",
    "Modelo Polinómico: 528926\n",
    "Modelo Logistico: 486598\n",
    "Modelo Probabilistico: 515240\n",
    "\n",
    "Podemos concluir que el modelo de regresión probabilístico es el que tiene una mejor predicción con los datos que tenemos y puede ser usado como referencia a futuro."
   ]
  },
  {
   "cell_type": "markdown",
   "metadata": {},
   "source": [
    "## Ventajas y Desventajas\n",
    "\n",
    "### Lineal\n",
    "Es un modelo sencillo y rápido, sin embargo, este solo puede predecir en datos lineales y balanceados.\n",
    "\n",
    "### Logistico\n",
    "Es un modelo rápido como el anterior y fácil de entender, pero no puede con problemas no lineales, necesita que los datos dependan uno de los otros.\n",
    "\n",
    "### Exponencial\n",
    "Usa una curva que se ajusta a los datos reales, por lo que es un buen modelo para predecir. La desventaja es que necesita la respuesta a la tendencia.\n",
    "\n",
    "### Polinomico\n",
    "La curva al igual que el anterior se ajusta a los datos reales, y es sencillo de aplicar. La desventaja es que depende mucho del grado de precision, mientras mayor sea el gramdo mas se ajusta a los datos.\n",
    "\n",
    "## ¿Cuál es el principal problema del Modelo Probabilístico?\n",
    "Este modelo es bastante bueno con dataset pequeños, cuando se tiene valores grandes su predicción se vuelve errónea."
   ]
  },
  {
   "cell_type": "code",
   "execution_count": null,
   "metadata": {},
   "outputs": [],
   "source": []
  }
 ],
 "metadata": {
  "kernelspec": {
   "display_name": "Python 3",
   "language": "python",
   "name": "python3"
  },
  "language_info": {
   "codemirror_mode": {
    "name": "ipython",
    "version": 3
   },
   "file_extension": ".py",
   "mimetype": "text/x-python",
   "name": "python",
   "nbconvert_exporter": "python",
   "pygments_lexer": "ipython3",
   "version": "3.7.6"
  }
 },
 "nbformat": 4,
 "nbformat_minor": 2
}
