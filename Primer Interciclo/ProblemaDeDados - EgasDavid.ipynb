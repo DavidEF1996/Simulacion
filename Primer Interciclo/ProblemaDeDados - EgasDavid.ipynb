{
 "cells": [
  {
   "cell_type": "markdown",
   "metadata": {},
   "source": [
    "# Problema de Dados\n",
    "### Nombre: David Egas\n",
    "\n",
    "Se debe generar dos numeros aleatorios entre 1 y 6, realizar la suma y ver cual es el resultado que mas se repite en el rango\n",
    "de 100, 1000, y 10000 numeros. Sacar el promedio y realizar un histograma de los numeros que mas se han repetido.\n",
    "\n",
    "Se espera comprobar el proceso realizado en clases."
   ]
  },
  {
   "cell_type": "code",
   "execution_count": 42,
   "metadata": {},
   "outputs": [
    {
     "name": "stdout",
     "output_type": "stream",
     "text": [
      "Selecciona una opción\n",
      "\t1 - Rango 1 - 100\n",
      "\t2 - Rango 100 - 1000\n",
      "\t3 - Rango 1000 - 10000\n",
      "\t4 - Salir\n",
      "Elige una opción: 1\n",
      "[5, 10, 11, 9, 8, 6, 7, 9, 5, 5, 5, 10, 3, 8, 8, 11, 3, 6, 10, 9, 6, 7, 10, 10, 5, 11, 4, 7, 2, 12, 11, 2, 7, 6, 9, 5, 7, 4, 9, 9, 6, 9, 6, 7, 7, 6, 3, 6, 6, 8, 4, 7, 7, 10, 6, 5, 5, 4, 4, 9, 11, 9, 4, 10, 6, 8, 11, 12, 8, 9, 3, 7, 10, 7, 10, 8, 6, 5, 2, 8, 8, 10, 10, 7, 5, 4, 12, 12, 7, 7, 11, 6, 5, 7, 5, 10, 11, 10, 9, 11]\n",
      "La probabilidad que mas aparece es:  0.07 y le pertenece al número:  7\n"
     ]
    },
    {
     "data": {
      "image/png": "[encoded data removed]",
      "text/plain": [
       "<Figure size 432x288 with 1 Axes>"
      ]
     },
     "metadata": {
      "needs_background": "light"
     },
     "output_type": "display_data"
    },
    {
     "name": "stdout",
     "output_type": "stream",
     "text": [
      "Selecciona una opción\n",
      "\t1 - Rango 1 - 100\n",
      "\t2 - Rango 100 - 1000\n",
      "\t3 - Rango 1000 - 10000\n",
      "\t4 - Salir\n",
      "Elige una opción: 4\n"
     ]
    },
    {
     "data": {
      "text/plain": [
       "<Figure size 432x288 with 0 Axes>"
      ]
     },
     "metadata": {},
     "output_type": "display_data"
    }
   ],
   "source": [
    "import random\n",
    "import statistics as stats\n",
    "import matplotlib.pyplot as plt\n",
    "\n",
    "import numpy as np\n",
    "\n",
    "def menu():\n",
    "    print (\"Selecciona una opción\")\n",
    "    print (\"\\t1 - Rango 1 - 100\")\n",
    "    print (\"\\t2 - Rango 100 - 1000\")\n",
    "    print (\"\\t3 - Rango 1000 - 10000\")\n",
    "    print (\"\\t4 - Salir\")\n",
    "\n",
    "while True:\n",
    "    \n",
    "# Mostramos el menu\n",
    "    menu()\n",
    " \n",
    "\t# solicituamos una opción al usuario\n",
    "    opcionMenu = input(\"Elige una opción: \")\n",
    " \n",
    "    if opcionMenu==\"1\":\n",
    "        datos = []\n",
    "        for i in range (100):\n",
    "            numero1 = random.randint(1, 6)\n",
    "            numero2 = random.randint(1, 6)\n",
    "            #print(numero1, numero2)\n",
    "            respuesta = numero1 + numero2 \n",
    "            datos.append(respuesta)\n",
    "        print(datos)\n",
    "        print(\"La probabilidad que mas aparece es: \", stats.mode(datos)/100, \"y le pertenece al número: \", stats.mode(datos)) \n",
    "\n",
    "\n",
    "        plt.title('Gráfico')\n",
    "        plt.hist(datos, bins=60, alpha=1, edgecolor = 'black',  linewidth=1)\n",
    "        plt.grid(True)\n",
    "        plt.show()\n",
    "        plt.clf()\n",
    "        \n",
    "    elif opcionMenu==\"2\":\n",
    "        datos = []\n",
    "        for i in range (1000):\n",
    "            numero1 = random.randint(1, 6)\n",
    "            numero2 = random.randint(1, 6)\n",
    "            #print(numero1, numero2)\n",
    "            respuesta = numero1 + numero2 \n",
    "            datos.append(respuesta)\n",
    "        print(datos)\n",
    "        #pro = stats.mode(datos)\n",
    "        print(\"La probabilidad que mas aparece es: \", stats.mode(datos)/1000, \"y le pertenece al número: \", stats.mode(datos)) \n",
    "\n",
    "\n",
    "        plt.title('Gráfico')\n",
    "        plt.hist(datos, bins=60, alpha=1, edgecolor = 'black',  linewidth=1)\n",
    "        plt.grid(True)\n",
    "        plt.show()\n",
    "        plt.clf()\n",
    "        \n",
    "    elif opcionMenu==\"3\":\n",
    "        datos = []\n",
    "        for i in range (10000):\n",
    "            numero1 = random.randint(1, 6)\n",
    "            numero2 = random.randint(1, 6)\n",
    "            #print(numero1, numero2)\n",
    "            respuesta = numero1 + numero2 \n",
    "            datos.append(respuesta)\n",
    "        print(datos)\n",
    "        #pro = stats.mode(datos)\n",
    "        print(\"La probabilidad que mas aparece es: \", stats.mode(datos)/10000, \"y le pertenece al número: \", stats.mode(datos)) \n",
    "\n",
    "\n",
    "        plt.title('Gráfico')\n",
    "        plt.hist(datos, bins=60, alpha=1, edgecolor = 'black',  linewidth=1)\n",
    "        plt.grid(True)\n",
    "        plt.show()\n",
    "        plt.clf()\n",
    "        \n",
    "    elif opcionMenu==\"4\":\n",
    "        break\n",
    "    else:\n",
    "        print (\"\")\n",
    "        input(\"No has pulsado ninguna opción correcta...\\npulsa una tecla para continuar\")\n",
    "\n"
   ]
  },
  {
   "cell_type": "code",
   "execution_count": null,
   "metadata": {},
   "outputs": [],
   "source": []
  },
  {
   "cell_type": "code",
   "execution_count": null,
   "metadata": {},
   "outputs": [],
   "source": []
  }
 ],
 "metadata": {
  "kernelspec": {
   "display_name": "Python 3",
   "language": "python",
   "name": "python3"
  },
  "language_info": {
   "codemirror_mode": {
    "name": "ipython",
    "version": 3
   },
   "file_extension": ".py",
   "mimetype": "text/x-python",
   "name": "python",
   "nbconvert_exporter": "python",
   "pygments_lexer": "ipython3",
   "version": "3.7.8"
  }
 },
 "nbformat": 4,
 "nbformat_minor": 4
}
