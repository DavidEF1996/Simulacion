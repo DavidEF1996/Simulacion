{
 "cells": [
  {
   "cell_type": "code",
   "execution_count": 9,
   "metadata": {},
   "outputs": [],
   "source": [
    "from selenium import webdriver\n",
    "from selenium.webdriver.common.by import By\n",
    "from selenium.webdriver.common.action_chains import ActionChains\n",
    "from selenium.webdriver.support import expected_conditions\n",
    "from selenium.webdriver.support.wait import WebDriverWait\n",
    "from selenium.webdriver.common.keys import Keys\n",
    "from selenium.webdriver.common.desired_capabilities import DesiredCapabilities\n",
    "\n",
    "  \n"
   ]
  },
  {
   "cell_type": "code",
   "execution_count": 13,
   "metadata": {},
   "outputs": [
    {
     "ename": "NameError",
     "evalue": "name 'element' is not defined",
     "output_type": "error",
     "traceback": [
      "\u001b[1;31m---------------------------------------------------------------------------\u001b[0m",
      "\u001b[1;31mNameError\u001b[0m                                 Traceback (most recent call last)",
      "\u001b[1;32m<ipython-input-13-d4c6b57f908c>\u001b[0m in \u001b[0;36m<module>\u001b[1;34m\u001b[0m\n\u001b[0;32m      8\u001b[0m \u001b[1;31m#element = driver.find_element(By.CSS_SELECTOR, \"#owaNoteFeedButton > .o365cs-base\")\u001b[0m\u001b[1;33m\u001b[0m\u001b[1;33m\u001b[0m\u001b[1;33m\u001b[0m\u001b[0m\n\u001b[0;32m      9\u001b[0m \u001b[0mactions\u001b[0m \u001b[1;33m=\u001b[0m \u001b[0mActionChains\u001b[0m\u001b[1;33m(\u001b[0m\u001b[0mdriver\u001b[0m\u001b[1;33m)\u001b[0m\u001b[1;33m\u001b[0m\u001b[1;33m\u001b[0m\u001b[0m\n\u001b[1;32m---> 10\u001b[1;33m \u001b[0mactions\u001b[0m\u001b[1;33m.\u001b[0m\u001b[0mmove_to_element\u001b[0m\u001b[1;33m(\u001b[0m\u001b[0melement\u001b[0m\u001b[1;33m)\u001b[0m\u001b[1;33m.\u001b[0m\u001b[0mperform\u001b[0m\u001b[1;33m(\u001b[0m\u001b[1;33m)\u001b[0m\u001b[1;33m\u001b[0m\u001b[1;33m\u001b[0m\u001b[0m\n\u001b[0m",
      "\u001b[1;31mNameError\u001b[0m: name 'element' is not defined"
     ]
    }
   ],
   "source": [
    "\n",
    "\n",
    "driver = webdriver.Chrome(executable_path=r\"C:\\driver_chrome\\chromedriver.exe\")\n",
    "driver.get(\"https://outlook.live.com/owa/\")\n",
    "driver.set_window_size(1552, 840)\n",
    "driver.find_element(By.LINK_TEXT, \"Iniciar sesión\").click()\n",
    "driver.find_element(By.ID, \"i0116\").send_keys(\"vichofernando_10@hotmail.es\")\n",
    "driver.find_element(By.ID, \"i0118\").send_keys(\"david1996\")\n",
    "driver.find_element(By.ID, \"idSIButton9\").click()\n",
    "#element = driver.find_element(By.CSS_SELECTOR, \"#owaNoteFeedButton > .o365cs-base\")\n",
    "actions = ActionChains(driver)\n",
    "#actions.move_to_element(element).perform()"
   ]
  },
  {
   "cell_type": "code",
   "execution_count": 16,
   "metadata": {},
   "outputs": [],
   "source": [
    "import pytest\n",
    "import time\n",
    "import json\n",
    "from selenium import webdriver\n",
    "from selenium.webdriver.common.by import By\n",
    "from selenium.webdriver.common.action_chains import ActionChains\n",
    "from selenium.webdriver.support import expected_conditions\n",
    "from selenium.webdriver.support.wait import WebDriverWait\n",
    "from selenium.webdriver.common.keys import Keys\n",
    "from selenium.webdriver.common.desired_capabilities import DesiredCapabilities\n",
    "\n",
    "class TestEntrar():\n",
    "    def setup_method(self, method):\n",
    "        self.driver = webdriver.Chrome(executable_path=r\"C:\\driver_chrome\\chromedriver.exe\")\n",
    "        self.vars = {}\n",
    "  \n",
    "    def teardown_method(self, method):\n",
    "        self.driver.quit()\n",
    "  \n",
    "    def wait_for_window(self, timeout = 2):\n",
    "        time.sleep(round(timeout / 1000))\n",
    "        wh_now = self.driver.window_handles\n",
    "        wh_then = self.vars[\"window_handles\"]\n",
    "        if len(wh_now) > len(wh_then):\n",
    "            return set(wh_now).difference(set(wh_then)).pop()\n",
    "  \n",
    "    def test_entrar(self):\n",
    "        self.driver.get(\"https://www.ups.edu.ec/\")\n",
    "        self.driver.set_window_size(1536, 824)\n",
    "        self.driver.find_element(By.LINK_TEXT, \"Acceder\").click()\n",
    "        self.driver.find_element(By.ID, \"username\").send_keys(\"degasf@est.ups.edu.ec\")\n",
    "        self.driver.find_element(By.ID, \"password\").send_keys(\"1710301001Mami\")\n",
    "        self.driver.find_element(By.NAME, \"submit\").click()\n",
    "        self.vars[\"window_handles\"] = self.driver.window_handles\n",
    "        self.driver.find_element(By.CSS_SELECTOR, \".panel-body > div > a > img\").click()\n",
    "        self.vars[\"win2386\"] = self.wait_for_window(2000)\n",
    "        self.vars[\"root\"] = self.driver.current_window_handle\n",
    "        self.driver.switch_to.window(self.vars[\"win2386\"])\n",
    "        self.vars[\"window_handles\"] = self.driver.window_handles\n",
    "        self.driver.find_element(By.CSS_SELECTOR, \".ups-platform:nth-child(1) .mt-1:nth-child(2)\").click()\n",
    "        self.vars[\"win6936\"] = self.wait_for_window(2000)\n",
    "        self.driver.switch_to.window(self.vars[\"win6936\"])\n",
    "        self.driver.switch_to.window(self.vars[\"root\"])\n",
    "        self.driver.find_element(By.ID, \"estCal\").click()\n",
    "        \n",
    "def main():\n",
    "    TestEntrar()"
   ]
  },
  {
   "cell_type": "code",
   "execution_count": null,
   "metadata": {},
   "outputs": [],
   "source": []
  }
 ],
 "metadata": {
  "kernelspec": {
   "display_name": "Python 3",
   "language": "python",
   "name": "python3"
  },
  "language_info": {
   "codemirror_mode": {
    "name": "ipython",
    "version": 3
   },
   "file_extension": ".py",
   "mimetype": "text/x-python",
   "name": "python",
   "nbconvert_exporter": "python",
   "pygments_lexer": "ipython3",
   "version": "3.8.5"
  }
 },
 "nbformat": 4,
 "nbformat_minor": 4
}
